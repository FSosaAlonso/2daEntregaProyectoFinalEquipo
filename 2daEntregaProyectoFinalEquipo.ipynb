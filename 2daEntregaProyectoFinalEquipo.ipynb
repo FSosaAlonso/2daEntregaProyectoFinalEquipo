{
  "cells": [
    {
      "cell_type": "markdown",
      "source": [
        "#DESAFÍO ENTREGABLE - Data Storytelling\n",
        "\n",
        "Equipo de trabajo:\n",
        "\n",
        "*   Lombardini Gabriela\n",
        "*   Sosa Alonso Florencia Victoria\n"
      ],
      "metadata": {
        "id": "ejbq7AuU-c0e"
      },
      "id": "ejbq7AuU-c0e"
    },
    {
      "cell_type": "markdown",
      "source": [
        "La base de datos seleccionada consiste en informacion sobre ventas y envios en EEUU.\n",
        "\n",
        "Ademas de los precios, también incluye cantidades, descuentos, regiones de compra, datos de compradores (como el tipo de comprador según su tarea), categoria y sub categoria del producto, medio de envio, fecha de compra y envio, etc.\n",
        "\n",
        "La dataset es de uso público y puede encontrarse en Tableau https://community.tableau.com/s/question/0D54T00000CWeX8SAL/sample-superstore-sales-excelxls"
      ],
      "metadata": {
        "id": "aCSc2levWTb_"
      },
      "id": "aCSc2levWTb_"
    },
    {
      "cell_type": "markdown",
      "source": [
        "**Contexto comercial.** Las compras de algunos productos varían mucho. Quieren saber que ofertas brindar para obtener mejores ganancias. Los parámetros muestran informacion de precios, cantidades, descuentos y ganancias, además se pueden agrupar por regiones, categoria, tipo de comprador. El local te contrato para que construyas visualizaciones que les ayuden a identificar patrones de ventas y ganancias, lo que ayudaría a tomar acciones preventivas en las cantidades a comprar y que ofertas ofrecer. \n",
        "\n",
        "**Problema comercial.** Su tarea es limpiar los datos brindados y proporcionar visualizaciones que respondan las preguntas específicas del cliente, se mencionarán a continuación.\n",
        "\n",
        "**Contexto analítico.** Se le proporciona un archivo EXCEL  que contiene detalles sobre producto, categoria, precio, región, descuentos, cantidades, etc.\n",
        "\n",
        "1. Extraer información del archivo Excel proporcionado.\n",
        "2. Leer, transformar y preparar datos para su visualización.\n",
        "3. Realizar análisis y visualizaciones para identificar patrones.\n",
        "\n",
        "El cliente nos presenta un conjunto específico de preguntas a las cuales deberíamos brindarle respuesta. Acompañado de visualizaciones.\n",
        "\n",
        "1. ¿Qué región vende más?\n",
        "2. ¿Cuál es la categoria mas comprada?\n",
        "3. ¿Que tipo de comprador es el mas habitual?\n",
        "4. ¿Cuáles son las 5 sub categorias que más facturaron?\n",
        "5. ¿Cualés son los mayores descuentos por categoria y sub categoria?"
      ],
      "metadata": {
        "id": "DDj7nn6_oUJG"
      },
      "id": "DDj7nn6_oUJG"
    },
    {
      "cell_type": "markdown",
      "id": "5c6b2d5c",
      "metadata": {
        "id": "5c6b2d5c"
      },
      "source": [
        "   \n",
        "**Dataset:**  <br> [dataset Sample Superstore](https://github.com/FSosaAlonso/DatasetSampleStore/raw/main/Sample-Superstore.xlsx)\n",
        "\n"
      ]
    },
    {
      "cell_type": "code",
      "source": [
        "from google.colab import drive\n",
        "import os\n",
        "import pandas as pd"
      ],
      "metadata": {
        "id": "Ex9_XdRYcAre"
      },
      "id": "Ex9_XdRYcAre",
      "execution_count": null,
      "outputs": []
    },
    {
      "cell_type": "code",
      "execution_count": null,
      "id": "9d477bcf",
      "metadata": {
        "id": "9d477bcf"
      },
      "outputs": [],
      "source": [
        "import warnings\n",
        "warnings.filterwarnings(\"ignore\")\n",
        "\n",
        "# manejo de data\n",
        "import pandas as pd\n",
        "pd.options.display.max_columns = 100\n",
        "pd.options.display.float_format = '{:.3f}'.format\n",
        "\n",
        "# visualizaciones\n",
        "import matplotlib.pyplot as plt\n",
        "import seaborn as sns\n",
        "import plotly.express as px"
      ]
    },
    {
      "cell_type": "markdown",
      "id": "412fa23f",
      "metadata": {
        "id": "412fa23f"
      },
      "source": [
        "## Data"
      ]
    },
    {
      "cell_type": "markdown",
      "id": "e7a08186",
      "metadata": {
        "id": "e7a08186"
      },
      "source": [
        "Cargamos el dataset:"
      ]
    },
    {
      "cell_type": "code",
      "execution_count": null,
      "id": "863383c8",
      "metadata": {
        "id": "863383c8",
        "colab": {
          "base_uri": "https://localhost:8080/",
          "height": 617
        },
        "outputId": "06301f66-4340-4de7-b44f-0bccb34f4e77"
      },
      "outputs": [
        {
          "output_type": "stream",
          "name": "stdout",
          "text": [
            "(9994, 21)\n"
          ]
        },
        {
          "output_type": "execute_result",
          "data": {
            "text/plain": [
              "   Row ID        Order ID Order Date  Ship Date       Ship Mode Customer ID  \\\n",
              "0       1  CA-2020-152156 2020-11-08 2020-11-11    Second Class    CG-12520   \n",
              "1       2  CA-2020-152156 2020-11-08 2020-11-11    Second Class    CG-12520   \n",
              "2       3  CA-2020-138688 2020-06-12 2020-06-16    Second Class    DV-13045   \n",
              "3       4  US-2019-108966 2019-10-11 2019-10-18  Standard Class    SO-20335   \n",
              "4       5  US-2019-108966 2019-10-11 2019-10-18  Standard Class    SO-20335   \n",
              "\n",
              "     Customer Name    Segment Country/Region             City       State  \\\n",
              "0      Claire Gute   Consumer  United States        Henderson    Kentucky   \n",
              "1      Claire Gute   Consumer  United States        Henderson    Kentucky   \n",
              "2  Darrin Van Huff  Corporate  United States      Los Angeles  California   \n",
              "3   Sean O'Donnell   Consumer  United States  Fort Lauderdale     Florida   \n",
              "4   Sean O'Donnell   Consumer  United States  Fort Lauderdale     Florida   \n",
              "\n",
              "   Postal Code Region       Product ID         Category Sub-Category  \\\n",
              "0    42420.000  South  FUR-BO-10001798        Furniture    Bookcases   \n",
              "1    42420.000  South  FUR-CH-10000454        Furniture       Chairs   \n",
              "2    90036.000   West  OFF-LA-10000240  Office Supplies       Labels   \n",
              "3    33311.000  South  FUR-TA-10000577        Furniture       Tables   \n",
              "4    33311.000  South  OFF-ST-10000760  Office Supplies      Storage   \n",
              "\n",
              "                                        Product Name   Sales  Quantity  \\\n",
              "0                  Bush Somerset Collection Bookcase 261.960         2   \n",
              "1  Hon Deluxe Fabric Upholstered Stacking Chairs,... 731.940         3   \n",
              "2  Self-Adhesive Address Labels for Typewriters b...  14.620         2   \n",
              "3      Bretford CR4500 Series Slim Rectangular Table 957.577         5   \n",
              "4                     Eldon Fold 'N Roll Cart System  22.368         2   \n",
              "\n",
              "   Discount   Profit  \n",
              "0     0.000   41.914  \n",
              "1     0.000  219.582  \n",
              "2     0.000    6.871  \n",
              "3     0.450 -383.031  \n",
              "4     0.200    2.516  "
            ],
            "text/html": [
              "\n",
              "  <div id=\"df-cac07d72-cbbd-480b-9ad1-2bcdc174f125\">\n",
              "    <div class=\"colab-df-container\">\n",
              "      <div>\n",
              "<style scoped>\n",
              "    .dataframe tbody tr th:only-of-type {\n",
              "        vertical-align: middle;\n",
              "    }\n",
              "\n",
              "    .dataframe tbody tr th {\n",
              "        vertical-align: top;\n",
              "    }\n",
              "\n",
              "    .dataframe thead th {\n",
              "        text-align: right;\n",
              "    }\n",
              "</style>\n",
              "<table border=\"1\" class=\"dataframe\">\n",
              "  <thead>\n",
              "    <tr style=\"text-align: right;\">\n",
              "      <th></th>\n",
              "      <th>Row ID</th>\n",
              "      <th>Order ID</th>\n",
              "      <th>Order Date</th>\n",
              "      <th>Ship Date</th>\n",
              "      <th>Ship Mode</th>\n",
              "      <th>Customer ID</th>\n",
              "      <th>Customer Name</th>\n",
              "      <th>Segment</th>\n",
              "      <th>Country/Region</th>\n",
              "      <th>City</th>\n",
              "      <th>State</th>\n",
              "      <th>Postal Code</th>\n",
              "      <th>Region</th>\n",
              "      <th>Product ID</th>\n",
              "      <th>Category</th>\n",
              "      <th>Sub-Category</th>\n",
              "      <th>Product Name</th>\n",
              "      <th>Sales</th>\n",
              "      <th>Quantity</th>\n",
              "      <th>Discount</th>\n",
              "      <th>Profit</th>\n",
              "    </tr>\n",
              "  </thead>\n",
              "  <tbody>\n",
              "    <tr>\n",
              "      <th>0</th>\n",
              "      <td>1</td>\n",
              "      <td>CA-2020-152156</td>\n",
              "      <td>2020-11-08</td>\n",
              "      <td>2020-11-11</td>\n",
              "      <td>Second Class</td>\n",
              "      <td>CG-12520</td>\n",
              "      <td>Claire Gute</td>\n",
              "      <td>Consumer</td>\n",
              "      <td>United States</td>\n",
              "      <td>Henderson</td>\n",
              "      <td>Kentucky</td>\n",
              "      <td>42420.000</td>\n",
              "      <td>South</td>\n",
              "      <td>FUR-BO-10001798</td>\n",
              "      <td>Furniture</td>\n",
              "      <td>Bookcases</td>\n",
              "      <td>Bush Somerset Collection Bookcase</td>\n",
              "      <td>261.960</td>\n",
              "      <td>2</td>\n",
              "      <td>0.000</td>\n",
              "      <td>41.914</td>\n",
              "    </tr>\n",
              "    <tr>\n",
              "      <th>1</th>\n",
              "      <td>2</td>\n",
              "      <td>CA-2020-152156</td>\n",
              "      <td>2020-11-08</td>\n",
              "      <td>2020-11-11</td>\n",
              "      <td>Second Class</td>\n",
              "      <td>CG-12520</td>\n",
              "      <td>Claire Gute</td>\n",
              "      <td>Consumer</td>\n",
              "      <td>United States</td>\n",
              "      <td>Henderson</td>\n",
              "      <td>Kentucky</td>\n",
              "      <td>42420.000</td>\n",
              "      <td>South</td>\n",
              "      <td>FUR-CH-10000454</td>\n",
              "      <td>Furniture</td>\n",
              "      <td>Chairs</td>\n",
              "      <td>Hon Deluxe Fabric Upholstered Stacking Chairs,...</td>\n",
              "      <td>731.940</td>\n",
              "      <td>3</td>\n",
              "      <td>0.000</td>\n",
              "      <td>219.582</td>\n",
              "    </tr>\n",
              "    <tr>\n",
              "      <th>2</th>\n",
              "      <td>3</td>\n",
              "      <td>CA-2020-138688</td>\n",
              "      <td>2020-06-12</td>\n",
              "      <td>2020-06-16</td>\n",
              "      <td>Second Class</td>\n",
              "      <td>DV-13045</td>\n",
              "      <td>Darrin Van Huff</td>\n",
              "      <td>Corporate</td>\n",
              "      <td>United States</td>\n",
              "      <td>Los Angeles</td>\n",
              "      <td>California</td>\n",
              "      <td>90036.000</td>\n",
              "      <td>West</td>\n",
              "      <td>OFF-LA-10000240</td>\n",
              "      <td>Office Supplies</td>\n",
              "      <td>Labels</td>\n",
              "      <td>Self-Adhesive Address Labels for Typewriters b...</td>\n",
              "      <td>14.620</td>\n",
              "      <td>2</td>\n",
              "      <td>0.000</td>\n",
              "      <td>6.871</td>\n",
              "    </tr>\n",
              "    <tr>\n",
              "      <th>3</th>\n",
              "      <td>4</td>\n",
              "      <td>US-2019-108966</td>\n",
              "      <td>2019-10-11</td>\n",
              "      <td>2019-10-18</td>\n",
              "      <td>Standard Class</td>\n",
              "      <td>SO-20335</td>\n",
              "      <td>Sean O'Donnell</td>\n",
              "      <td>Consumer</td>\n",
              "      <td>United States</td>\n",
              "      <td>Fort Lauderdale</td>\n",
              "      <td>Florida</td>\n",
              "      <td>33311.000</td>\n",
              "      <td>South</td>\n",
              "      <td>FUR-TA-10000577</td>\n",
              "      <td>Furniture</td>\n",
              "      <td>Tables</td>\n",
              "      <td>Bretford CR4500 Series Slim Rectangular Table</td>\n",
              "      <td>957.577</td>\n",
              "      <td>5</td>\n",
              "      <td>0.450</td>\n",
              "      <td>-383.031</td>\n",
              "    </tr>\n",
              "    <tr>\n",
              "      <th>4</th>\n",
              "      <td>5</td>\n",
              "      <td>US-2019-108966</td>\n",
              "      <td>2019-10-11</td>\n",
              "      <td>2019-10-18</td>\n",
              "      <td>Standard Class</td>\n",
              "      <td>SO-20335</td>\n",
              "      <td>Sean O'Donnell</td>\n",
              "      <td>Consumer</td>\n",
              "      <td>United States</td>\n",
              "      <td>Fort Lauderdale</td>\n",
              "      <td>Florida</td>\n",
              "      <td>33311.000</td>\n",
              "      <td>South</td>\n",
              "      <td>OFF-ST-10000760</td>\n",
              "      <td>Office Supplies</td>\n",
              "      <td>Storage</td>\n",
              "      <td>Eldon Fold 'N Roll Cart System</td>\n",
              "      <td>22.368</td>\n",
              "      <td>2</td>\n",
              "      <td>0.200</td>\n",
              "      <td>2.516</td>\n",
              "    </tr>\n",
              "  </tbody>\n",
              "</table>\n",
              "</div>\n",
              "      <button class=\"colab-df-convert\" onclick=\"convertToInteractive('df-cac07d72-cbbd-480b-9ad1-2bcdc174f125')\"\n",
              "              title=\"Convert this dataframe to an interactive table.\"\n",
              "              style=\"display:none;\">\n",
              "        \n",
              "  <svg xmlns=\"http://www.w3.org/2000/svg\" height=\"24px\"viewBox=\"0 0 24 24\"\n",
              "       width=\"24px\">\n",
              "    <path d=\"M0 0h24v24H0V0z\" fill=\"none\"/>\n",
              "    <path d=\"M18.56 5.44l.94 2.06.94-2.06 2.06-.94-2.06-.94-.94-2.06-.94 2.06-2.06.94zm-11 1L8.5 8.5l.94-2.06 2.06-.94-2.06-.94L8.5 2.5l-.94 2.06-2.06.94zm10 10l.94 2.06.94-2.06 2.06-.94-2.06-.94-.94-2.06-.94 2.06-2.06.94z\"/><path d=\"M17.41 7.96l-1.37-1.37c-.4-.4-.92-.59-1.43-.59-.52 0-1.04.2-1.43.59L10.3 9.45l-7.72 7.72c-.78.78-.78 2.05 0 2.83L4 21.41c.39.39.9.59 1.41.59.51 0 1.02-.2 1.41-.59l7.78-7.78 2.81-2.81c.8-.78.8-2.07 0-2.86zM5.41 20L4 18.59l7.72-7.72 1.47 1.35L5.41 20z\"/>\n",
              "  </svg>\n",
              "      </button>\n",
              "      \n",
              "  <style>\n",
              "    .colab-df-container {\n",
              "      display:flex;\n",
              "      flex-wrap:wrap;\n",
              "      gap: 12px;\n",
              "    }\n",
              "\n",
              "    .colab-df-convert {\n",
              "      background-color: #E8F0FE;\n",
              "      border: none;\n",
              "      border-radius: 50%;\n",
              "      cursor: pointer;\n",
              "      display: none;\n",
              "      fill: #1967D2;\n",
              "      height: 32px;\n",
              "      padding: 0 0 0 0;\n",
              "      width: 32px;\n",
              "    }\n",
              "\n",
              "    .colab-df-convert:hover {\n",
              "      background-color: #E2EBFA;\n",
              "      box-shadow: 0px 1px 2px rgba(60, 64, 67, 0.3), 0px 1px 3px 1px rgba(60, 64, 67, 0.15);\n",
              "      fill: #174EA6;\n",
              "    }\n",
              "\n",
              "    [theme=dark] .colab-df-convert {\n",
              "      background-color: #3B4455;\n",
              "      fill: #D2E3FC;\n",
              "    }\n",
              "\n",
              "    [theme=dark] .colab-df-convert:hover {\n",
              "      background-color: #434B5C;\n",
              "      box-shadow: 0px 1px 3px 1px rgba(0, 0, 0, 0.15);\n",
              "      filter: drop-shadow(0px 1px 2px rgba(0, 0, 0, 0.3));\n",
              "      fill: #FFFFFF;\n",
              "    }\n",
              "  </style>\n",
              "\n",
              "      <script>\n",
              "        const buttonEl =\n",
              "          document.querySelector('#df-cac07d72-cbbd-480b-9ad1-2bcdc174f125 button.colab-df-convert');\n",
              "        buttonEl.style.display =\n",
              "          google.colab.kernel.accessAllowed ? 'block' : 'none';\n",
              "\n",
              "        async function convertToInteractive(key) {\n",
              "          const element = document.querySelector('#df-cac07d72-cbbd-480b-9ad1-2bcdc174f125');\n",
              "          const dataTable =\n",
              "            await google.colab.kernel.invokeFunction('convertToInteractive',\n",
              "                                                     [key], {});\n",
              "          if (!dataTable) return;\n",
              "\n",
              "          const docLinkHtml = 'Like what you see? Visit the ' +\n",
              "            '<a target=\"_blank\" href=https://colab.research.google.com/notebooks/data_table.ipynb>data table notebook</a>'\n",
              "            + ' to learn more about interactive tables.';\n",
              "          element.innerHTML = '';\n",
              "          dataTable['output_type'] = 'display_data';\n",
              "          await google.colab.output.renderOutput(dataTable, element);\n",
              "          const docLink = document.createElement('div');\n",
              "          docLink.innerHTML = docLinkHtml;\n",
              "          element.appendChild(docLink);\n",
              "        }\n",
              "      </script>\n",
              "    </div>\n",
              "  </div>\n",
              "  "
            ]
          },
          "metadata": {},
          "execution_count": 3
        }
      ],
      "source": [
        "url= 'https://github.com/FSosaAlonso/DatasetSampleStore/raw/main/Sample-Superstore.xlsx'\n",
        "df = pd.read_excel(url)\n",
        "print(df.shape)\n",
        "df.head()"
      ]
    },
    {
      "cell_type": "markdown",
      "source": [
        "Cambiaremos el nombre columnas, para evitar errores al utilizarlas luego y tener la misma estructura en las variables a utilizar"
      ],
      "metadata": {
        "id": "NWnNiwQTtujN"
      },
      "id": "NWnNiwQTtujN"
    },
    {
      "cell_type": "code",
      "source": [
        "df.shape"
      ],
      "metadata": {
        "colab": {
          "base_uri": "https://localhost:8080/"
        },
        "id": "OurUQd1QJZi1",
        "outputId": "680499cb-db7c-4bf7-f9d0-4f406068c08e"
      },
      "id": "OurUQd1QJZi1",
      "execution_count": null,
      "outputs": [
        {
          "output_type": "execute_result",
          "data": {
            "text/plain": [
              "(9994, 21)"
            ]
          },
          "metadata": {},
          "execution_count": 4
        }
      ]
    },
    {
      "cell_type": "code",
      "source": [
        "df.rename(columns={'Row ID':'row_ID','Order ID':'order_ID', 'Order Date':'order_date', \n",
        "                   'Ship Date':'ship_date', 'Ship Mode':'ship_mode', 'Customer ID':'customer_ID', \n",
        "                   'Customer Name':'customer_name', 'Segment':'segment', 'Country/Region':'country/region',\n",
        "                   'City':'city', 'State':'state', 'Postal Code':'postalcode', 'Region':'region', \n",
        "                   'Product ID':'product_ID', 'Category':'category', 'Sub-Category':'sub_category', \n",
        "                   'Product Name':'product_name', 'Sales':'sales', 'Quantity':'quantity', 'Discount':'discount', 'Profit':'profit'},\n",
        "               inplace=True)"
      ],
      "metadata": {
        "id": "EvHH00ZLtqn0"
      },
      "id": "EvHH00ZLtqn0",
      "execution_count": null,
      "outputs": []
    },
    {
      "cell_type": "markdown",
      "id": "04d43b5a",
      "metadata": {
        "id": "04d43b5a"
      },
      "source": [
        "Para simplicidad en la consulta, se proporciona diccionario de descripciones de campos."
      ]
    },
    {
      "cell_type": "code",
      "execution_count": null,
      "id": "77e92bf5",
      "metadata": {
        "id": "77e92bf5"
      },
      "outputs": [],
      "source": [
        "d_desc = {'row_ID':'Número de identificación de la fila.','order_ID':'Código de identificación de la orden.',\n",
        "          'order_date':'Fecha en que se realizó la orden.','ship_date':'Fecha en que se envió la orden.',\n",
        "          'ship_mode':'Modo en que se envió.','customer_ID':'Código de identificación del cliente.',\n",
        "          'customer_name':'Nombre del cliente','segment':'Clasificación de cliente segun tipo de consumidor.',\n",
        "          'country/region':'País donde reside el cliente.','city':'Ciudad donde reside el cliente.',\n",
        "          'state':'Estado donde reside el cliente.','postal_code':'Código postal del domicilio del cliente.',\n",
        "          'region':'Ubicación cardinal del socio en la región.','product_ID':'Código de indentificación del producto comprado.',\n",
        "          'category':'Categoría del tipo de producto comprado.','sub_category':'Sub-categoria del producto comprado. ',\n",
        "          'product_name':'Nombre del producto comprado.','sales':'Precio de la venta.',\n",
        "          'quantity':'Cantidad del producto vendido. ','discount':'Descuentos ofrecidos.',\n",
        "            'profit':'Ganancia obtenida.'}"
      ]
    },
    {
      "cell_type": "markdown",
      "id": "e9ab8649",
      "metadata": {
        "id": "e9ab8649"
      },
      "source": [
        "## Información básica del archivo \n",
        "\n"
      ]
    },
    {
      "cell_type": "code",
      "execution_count": null,
      "id": "984aadb2",
      "metadata": {
        "id": "984aadb2",
        "colab": {
          "base_uri": "https://localhost:8080/"
        },
        "outputId": "95e789e0-81fc-4af7-b268-b5fa629149b7"
      },
      "outputs": [
        {
          "output_type": "execute_result",
          "data": {
            "text/plain": [
              "Index(['row_ID', 'order_ID', 'order_date', 'ship_date', 'ship_mode',\n",
              "       'customer_ID', 'customer_name', 'segment', 'country/region', 'city',\n",
              "       'state', 'postalcode', 'region', 'product_ID', 'category',\n",
              "       'sub_category', 'product_name', 'sales', 'quantity', 'discount',\n",
              "       'profit'],\n",
              "      dtype='object')"
            ]
          },
          "metadata": {},
          "execution_count": 7
        }
      ],
      "source": [
        "df.columns"
      ]
    },
    {
      "cell_type": "code",
      "source": [
        "df.describe()"
      ],
      "metadata": {
        "id": "zYpithznebv4",
        "colab": {
          "base_uri": "https://localhost:8080/",
          "height": 300
        },
        "outputId": "98f12916-5238-4e78-d73a-1d975cacfdf2"
      },
      "id": "zYpithznebv4",
      "execution_count": null,
      "outputs": [
        {
          "output_type": "execute_result",
          "data": {
            "text/plain": [
              "        row_ID  postalcode     sales  quantity  discount    profit\n",
              "count 9994.000    9983.000  9994.000  9994.000  9994.000  9994.000\n",
              "mean  4997.500   55245.233   229.858     3.790     0.156    28.657\n",
              "std   2885.164   32038.716   623.245     2.225     0.206   234.260\n",
              "min      1.000    1040.000     0.444     1.000     0.000 -6599.978\n",
              "25%   2499.250   23223.000    17.280     2.000     0.000     1.729\n",
              "50%   4997.500   57103.000    54.490     3.000     0.200     8.666\n",
              "75%   7495.750   90008.000   209.940     5.000     0.200    29.364\n",
              "max   9994.000   99301.000 22638.480    14.000     0.800  8399.976"
            ],
            "text/html": [
              "\n",
              "  <div id=\"df-1d3a9658-3cb7-4662-ac88-2e0b17ada738\">\n",
              "    <div class=\"colab-df-container\">\n",
              "      <div>\n",
              "<style scoped>\n",
              "    .dataframe tbody tr th:only-of-type {\n",
              "        vertical-align: middle;\n",
              "    }\n",
              "\n",
              "    .dataframe tbody tr th {\n",
              "        vertical-align: top;\n",
              "    }\n",
              "\n",
              "    .dataframe thead th {\n",
              "        text-align: right;\n",
              "    }\n",
              "</style>\n",
              "<table border=\"1\" class=\"dataframe\">\n",
              "  <thead>\n",
              "    <tr style=\"text-align: right;\">\n",
              "      <th></th>\n",
              "      <th>row_ID</th>\n",
              "      <th>postalcode</th>\n",
              "      <th>sales</th>\n",
              "      <th>quantity</th>\n",
              "      <th>discount</th>\n",
              "      <th>profit</th>\n",
              "    </tr>\n",
              "  </thead>\n",
              "  <tbody>\n",
              "    <tr>\n",
              "      <th>count</th>\n",
              "      <td>9994.000</td>\n",
              "      <td>9983.000</td>\n",
              "      <td>9994.000</td>\n",
              "      <td>9994.000</td>\n",
              "      <td>9994.000</td>\n",
              "      <td>9994.000</td>\n",
              "    </tr>\n",
              "    <tr>\n",
              "      <th>mean</th>\n",
              "      <td>4997.500</td>\n",
              "      <td>55245.233</td>\n",
              "      <td>229.858</td>\n",
              "      <td>3.790</td>\n",
              "      <td>0.156</td>\n",
              "      <td>28.657</td>\n",
              "    </tr>\n",
              "    <tr>\n",
              "      <th>std</th>\n",
              "      <td>2885.164</td>\n",
              "      <td>32038.716</td>\n",
              "      <td>623.245</td>\n",
              "      <td>2.225</td>\n",
              "      <td>0.206</td>\n",
              "      <td>234.260</td>\n",
              "    </tr>\n",
              "    <tr>\n",
              "      <th>min</th>\n",
              "      <td>1.000</td>\n",
              "      <td>1040.000</td>\n",
              "      <td>0.444</td>\n",
              "      <td>1.000</td>\n",
              "      <td>0.000</td>\n",
              "      <td>-6599.978</td>\n",
              "    </tr>\n",
              "    <tr>\n",
              "      <th>25%</th>\n",
              "      <td>2499.250</td>\n",
              "      <td>23223.000</td>\n",
              "      <td>17.280</td>\n",
              "      <td>2.000</td>\n",
              "      <td>0.000</td>\n",
              "      <td>1.729</td>\n",
              "    </tr>\n",
              "    <tr>\n",
              "      <th>50%</th>\n",
              "      <td>4997.500</td>\n",
              "      <td>57103.000</td>\n",
              "      <td>54.490</td>\n",
              "      <td>3.000</td>\n",
              "      <td>0.200</td>\n",
              "      <td>8.666</td>\n",
              "    </tr>\n",
              "    <tr>\n",
              "      <th>75%</th>\n",
              "      <td>7495.750</td>\n",
              "      <td>90008.000</td>\n",
              "      <td>209.940</td>\n",
              "      <td>5.000</td>\n",
              "      <td>0.200</td>\n",
              "      <td>29.364</td>\n",
              "    </tr>\n",
              "    <tr>\n",
              "      <th>max</th>\n",
              "      <td>9994.000</td>\n",
              "      <td>99301.000</td>\n",
              "      <td>22638.480</td>\n",
              "      <td>14.000</td>\n",
              "      <td>0.800</td>\n",
              "      <td>8399.976</td>\n",
              "    </tr>\n",
              "  </tbody>\n",
              "</table>\n",
              "</div>\n",
              "      <button class=\"colab-df-convert\" onclick=\"convertToInteractive('df-1d3a9658-3cb7-4662-ac88-2e0b17ada738')\"\n",
              "              title=\"Convert this dataframe to an interactive table.\"\n",
              "              style=\"display:none;\">\n",
              "        \n",
              "  <svg xmlns=\"http://www.w3.org/2000/svg\" height=\"24px\"viewBox=\"0 0 24 24\"\n",
              "       width=\"24px\">\n",
              "    <path d=\"M0 0h24v24H0V0z\" fill=\"none\"/>\n",
              "    <path d=\"M18.56 5.44l.94 2.06.94-2.06 2.06-.94-2.06-.94-.94-2.06-.94 2.06-2.06.94zm-11 1L8.5 8.5l.94-2.06 2.06-.94-2.06-.94L8.5 2.5l-.94 2.06-2.06.94zm10 10l.94 2.06.94-2.06 2.06-.94-2.06-.94-.94-2.06-.94 2.06-2.06.94z\"/><path d=\"M17.41 7.96l-1.37-1.37c-.4-.4-.92-.59-1.43-.59-.52 0-1.04.2-1.43.59L10.3 9.45l-7.72 7.72c-.78.78-.78 2.05 0 2.83L4 21.41c.39.39.9.59 1.41.59.51 0 1.02-.2 1.41-.59l7.78-7.78 2.81-2.81c.8-.78.8-2.07 0-2.86zM5.41 20L4 18.59l7.72-7.72 1.47 1.35L5.41 20z\"/>\n",
              "  </svg>\n",
              "      </button>\n",
              "      \n",
              "  <style>\n",
              "    .colab-df-container {\n",
              "      display:flex;\n",
              "      flex-wrap:wrap;\n",
              "      gap: 12px;\n",
              "    }\n",
              "\n",
              "    .colab-df-convert {\n",
              "      background-color: #E8F0FE;\n",
              "      border: none;\n",
              "      border-radius: 50%;\n",
              "      cursor: pointer;\n",
              "      display: none;\n",
              "      fill: #1967D2;\n",
              "      height: 32px;\n",
              "      padding: 0 0 0 0;\n",
              "      width: 32px;\n",
              "    }\n",
              "\n",
              "    .colab-df-convert:hover {\n",
              "      background-color: #E2EBFA;\n",
              "      box-shadow: 0px 1px 2px rgba(60, 64, 67, 0.3), 0px 1px 3px 1px rgba(60, 64, 67, 0.15);\n",
              "      fill: #174EA6;\n",
              "    }\n",
              "\n",
              "    [theme=dark] .colab-df-convert {\n",
              "      background-color: #3B4455;\n",
              "      fill: #D2E3FC;\n",
              "    }\n",
              "\n",
              "    [theme=dark] .colab-df-convert:hover {\n",
              "      background-color: #434B5C;\n",
              "      box-shadow: 0px 1px 3px 1px rgba(0, 0, 0, 0.15);\n",
              "      filter: drop-shadow(0px 1px 2px rgba(0, 0, 0, 0.3));\n",
              "      fill: #FFFFFF;\n",
              "    }\n",
              "  </style>\n",
              "\n",
              "      <script>\n",
              "        const buttonEl =\n",
              "          document.querySelector('#df-1d3a9658-3cb7-4662-ac88-2e0b17ada738 button.colab-df-convert');\n",
              "        buttonEl.style.display =\n",
              "          google.colab.kernel.accessAllowed ? 'block' : 'none';\n",
              "\n",
              "        async function convertToInteractive(key) {\n",
              "          const element = document.querySelector('#df-1d3a9658-3cb7-4662-ac88-2e0b17ada738');\n",
              "          const dataTable =\n",
              "            await google.colab.kernel.invokeFunction('convertToInteractive',\n",
              "                                                     [key], {});\n",
              "          if (!dataTable) return;\n",
              "\n",
              "          const docLinkHtml = 'Like what you see? Visit the ' +\n",
              "            '<a target=\"_blank\" href=https://colab.research.google.com/notebooks/data_table.ipynb>data table notebook</a>'\n",
              "            + ' to learn more about interactive tables.';\n",
              "          element.innerHTML = '';\n",
              "          dataTable['output_type'] = 'display_data';\n",
              "          await google.colab.output.renderOutput(dataTable, element);\n",
              "          const docLink = document.createElement('div');\n",
              "          docLink.innerHTML = docLinkHtml;\n",
              "          element.appendChild(docLink);\n",
              "        }\n",
              "      </script>\n",
              "    </div>\n",
              "  </div>\n",
              "  "
            ]
          },
          "metadata": {},
          "execution_count": 8
        }
      ]
    },
    {
      "cell_type": "code",
      "execution_count": null,
      "id": "9bf86fe7",
      "metadata": {
        "id": "9bf86fe7",
        "colab": {
          "base_uri": "https://localhost:8080/"
        },
        "outputId": "ea48943e-aead-4e42-eabd-dd228f63d745"
      },
      "outputs": [
        {
          "output_type": "stream",
          "name": "stdout",
          "text": [
            "<class 'pandas.core.frame.DataFrame'>\n",
            "RangeIndex: 9994 entries, 0 to 9993\n",
            "Data columns (total 21 columns):\n",
            " #   Column          Non-Null Count  Dtype         \n",
            "---  ------          --------------  -----         \n",
            " 0   row_ID          9994 non-null   int64         \n",
            " 1   order_ID        9994 non-null   object        \n",
            " 2   order_date      9994 non-null   datetime64[ns]\n",
            " 3   ship_date       9994 non-null   datetime64[ns]\n",
            " 4   ship_mode       9994 non-null   object        \n",
            " 5   customer_ID     9994 non-null   object        \n",
            " 6   customer_name   9994 non-null   object        \n",
            " 7   segment         9994 non-null   object        \n",
            " 8   country/region  9994 non-null   object        \n",
            " 9   city            9994 non-null   object        \n",
            " 10  state           9994 non-null   object        \n",
            " 11  postalcode      9983 non-null   float64       \n",
            " 12  region          9994 non-null   object        \n",
            " 13  product_ID      9994 non-null   object        \n",
            " 14  category        9994 non-null   object        \n",
            " 15  sub_category    9994 non-null   object        \n",
            " 16  product_name    9994 non-null   object        \n",
            " 17  sales           9994 non-null   float64       \n",
            " 18  quantity        9994 non-null   int64         \n",
            " 19  discount        9994 non-null   float64       \n",
            " 20  profit          9994 non-null   float64       \n",
            "dtypes: datetime64[ns](2), float64(4), int64(2), object(13)\n",
            "memory usage: 1.6+ MB\n"
          ]
        }
      ],
      "source": [
        "df.info()"
      ]
    },
    {
      "cell_type": "code",
      "source": [
        "totalsales = df['sales'].sum()\n",
        "print(\"Facturación total en ventas: \", totalsales)\n",
        "totalq = df['quantity'].sum()\n",
        "print(\"Cantidad total de unidades vendidas: \", totalq)\n",
        "totaldesc = df['discount'].sum()\n",
        "print(\"Importe total en descuentos: \", totaldesc)\n",
        "totalgan = df['profit'].sum()\n",
        "print(\"Ganancia total obtenida: \", totalgan)"
      ],
      "metadata": {
        "colab": {
          "base_uri": "https://localhost:8080/"
        },
        "id": "O4TfovfizaeO",
        "outputId": "bd53d065-27d8-4cfa-c247-1df4186d57ef"
      },
      "id": "O4TfovfizaeO",
      "execution_count": 93,
      "outputs": [
        {
          "output_type": "stream",
          "name": "stdout",
          "text": [
            "Facturación total en ventas:  2297200.8603000003\n",
            "Cantidad total de unidades vendidas:  37873\n",
            "Importe total en descuentos:  1561.09\n",
            "Ganancia total obtenida:  286397.0216999999\n"
          ]
        }
      ]
    },
    {
      "cell_type": "markdown",
      "source": [
        "##**Limpieza**"
      ],
      "metadata": {
        "id": "TO_w_9R-DnCR"
      },
      "id": "TO_w_9R-DnCR"
    },
    {
      "cell_type": "markdown",
      "source": [
        "Realizaremos el proceso de limpieza teniendo en cuenta las situaciones mas comunes:\n",
        "\n",
        "\n",
        "1.   Datos nulos en algunas celdas\n",
        "2.   Columnas irrelevantes (innecesarias para resolver nuestro problema)\n",
        "3.   Registros (filas) repetidos\n",
        "4.   Valores extremos (outliers)\n"
      ],
      "metadata": {
        "id": "__6ejU6dD2WH"
      },
      "id": "__6ejU6dD2WH"
    },
    {
      "cell_type": "markdown",
      "source": [
        "**1. Datos nulos**\n",
        "\n",
        "Buscamos y sumamos la cantidad de datos nulos que tenga nuestro dataframe por columna.\n"
      ],
      "metadata": {
        "id": "iM9CLNGGG3m6"
      },
      "id": "iM9CLNGGG3m6"
    },
    {
      "cell_type": "code",
      "source": [
        "df.isnull().sum()"
      ],
      "metadata": {
        "colab": {
          "base_uri": "https://localhost:8080/"
        },
        "id": "n-7nMPPx8vkX",
        "outputId": "2c721e07-4d84-4f42-b5db-58a72ff11743"
      },
      "id": "n-7nMPPx8vkX",
      "execution_count": null,
      "outputs": [
        {
          "output_type": "execute_result",
          "data": {
            "text/plain": [
              "row_ID             0\n",
              "order_ID           0\n",
              "order_date         0\n",
              "ship_date          0\n",
              "ship_mode          0\n",
              "customer_ID        0\n",
              "customer_name      0\n",
              "segment            0\n",
              "country/region     0\n",
              "city               0\n",
              "state              0\n",
              "postalcode        11\n",
              "region             0\n",
              "product_ID         0\n",
              "category           0\n",
              "sub_category       0\n",
              "product_name       0\n",
              "sales              0\n",
              "quantity           0\n",
              "discount           0\n",
              "profit             0\n",
              "dtype: int64"
            ]
          },
          "metadata": {},
          "execution_count": 10
        }
      ]
    },
    {
      "cell_type": "code",
      "source": [
        "df.isnull().any(axis=1).sum()"
      ],
      "metadata": {
        "colab": {
          "base_uri": "https://localhost:8080/"
        },
        "id": "9t4ndNMpBBgj",
        "outputId": "f4bd1991-4247-4451-9f1e-55ede7251ca5"
      },
      "id": "9t4ndNMpBBgj",
      "execution_count": null,
      "outputs": [
        {
          "output_type": "execute_result",
          "data": {
            "text/plain": [
              "11"
            ]
          },
          "metadata": {},
          "execution_count": 11
        }
      ]
    },
    {
      "cell_type": "markdown",
      "source": [
        "Eliminamos todos los datos nulos, ya que la cantidad de filas afectadas no afectarían notablemente nuestro analisis, y guardamos el dataframe en una nueva variable."
      ],
      "metadata": {
        "id": "QNQlm7MOHHr7"
      },
      "id": "QNQlm7MOHHr7"
    },
    {
      "cell_type": "code",
      "source": [
        "df2 = df.dropna()"
      ],
      "metadata": {
        "id": "vtSnrsAM9fBA"
      },
      "id": "vtSnrsAM9fBA",
      "execution_count": null,
      "outputs": []
    },
    {
      "cell_type": "markdown",
      "source": [
        "**2. Columnas irrelevantes**\n",
        "\n",
        "Decidimos eliminar las columnas referidas al embarque de la orden ya que no tenemos el lugar de origen del mismo, por lo que esa información no será útil al momento del análisis."
      ],
      "metadata": {
        "id": "1v3HaLkuIULk"
      },
      "id": "1v3HaLkuIULk"
    },
    {
      "cell_type": "code",
      "source": [
        "df2 = df.drop(['ship_mode', 'ship_date'], axis=1)"
      ],
      "metadata": {
        "id": "UuTRq9pTJBkz"
      },
      "id": "UuTRq9pTJBkz",
      "execution_count": null,
      "outputs": []
    },
    {
      "cell_type": "code",
      "source": [
        "df2.dtypes   "
      ],
      "metadata": {
        "colab": {
          "base_uri": "https://localhost:8080/"
        },
        "id": "hoEtXXF-P0Bw",
        "outputId": "7b110a83-30f7-47bc-cd5a-7864b31109e8"
      },
      "id": "hoEtXXF-P0Bw",
      "execution_count": null,
      "outputs": [
        {
          "output_type": "execute_result",
          "data": {
            "text/plain": [
              "row_ID                     int64\n",
              "order_ID                  object\n",
              "order_date        datetime64[ns]\n",
              "customer_ID               object\n",
              "customer_name             object\n",
              "segment                   object\n",
              "country/region            object\n",
              "city                      object\n",
              "state                     object\n",
              "postalcode               float64\n",
              "region                    object\n",
              "product_ID                object\n",
              "category                  object\n",
              "sub_category              object\n",
              "product_name              object\n",
              "sales                    float64\n",
              "quantity                   int64\n",
              "discount                 float64\n",
              "profit                   float64\n",
              "dtype: object"
            ]
          },
          "metadata": {},
          "execution_count": 14
        }
      ]
    },
    {
      "cell_type": "markdown",
      "source": [
        "Examinaremos las columnas para ver la cantidad de valores unicos que tiene cada una."
      ],
      "metadata": {
        "id": "eT7HOnoC9Gji"
      },
      "id": "eT7HOnoC9Gji"
    },
    {
      "cell_type": "code",
      "source": [
        "cols_cat = ['segment', 'country/region', 'city', 'state', 'region', 'category', 'sub_category', 'product_name']\n",
        "\n",
        "\n",
        "for col in cols_cat:\n",
        "\tprint(f'Columna {col}: {df2[col].nunique()} subniveles')"
      ],
      "metadata": {
        "colab": {
          "base_uri": "https://localhost:8080/"
        },
        "id": "nR6nISD57ULL",
        "outputId": "7c30162c-09df-4dfc-d9d8-c68f1490fed4"
      },
      "id": "nR6nISD57ULL",
      "execution_count": null,
      "outputs": [
        {
          "output_type": "stream",
          "name": "stdout",
          "text": [
            "Columna segment: 3 subniveles\n",
            "Columna country/region: 1 subniveles\n",
            "Columna city: 531 subniveles\n",
            "Columna state: 49 subniveles\n",
            "Columna region: 4 subniveles\n",
            "Columna category: 3 subniveles\n",
            "Columna sub_category: 17 subniveles\n",
            "Columna product_name: 1849 subniveles\n"
          ]
        }
      ]
    },
    {
      "cell_type": "markdown",
      "source": [
        "La columna de 'country/region' tiene un solo valor, por lo que no aporta informacion que nos permita hacer una segmentación o analisis."
      ],
      "metadata": {
        "id": "MqAx7vNQ9QU5"
      },
      "id": "MqAx7vNQ9QU5"
    },
    {
      "cell_type": "code",
      "source": [
        "df2 = df2.drop(['country/region'], axis = 1)"
      ],
      "metadata": {
        "id": "UTl9GOVj9pZr"
      },
      "id": "UTl9GOVj9pZr",
      "execution_count": null,
      "outputs": []
    },
    {
      "cell_type": "markdown",
      "source": [
        "Además se crea una columna adicional, agrupando la fecha en años."
      ],
      "metadata": {
        "id": "jyH7dS6sM3DW"
      },
      "id": "jyH7dS6sM3DW"
    },
    {
      "cell_type": "code",
      "source": [
        "df2['year_order'] = df['order_date'].dt.year "
      ],
      "metadata": {
        "id": "e3gTN_xX_hfu"
      },
      "id": "e3gTN_xX_hfu",
      "execution_count": null,
      "outputs": []
    },
    {
      "cell_type": "markdown",
      "source": [
        "**3. Registros repetidos**\n",
        "\n",
        "Buscamos registros repetidos, pero no encontramos"
      ],
      "metadata": {
        "id": "cC2coOCXKcT5"
      },
      "id": "cC2coOCXKcT5"
    },
    {
      "cell_type": "code",
      "source": [
        "df2.duplicated()"
      ],
      "metadata": {
        "colab": {
          "base_uri": "https://localhost:8080/"
        },
        "id": "dRWZ_zIsCTGR",
        "outputId": "33ed2d53-d5df-45a9-e44c-90ce5c7ceac8"
      },
      "id": "dRWZ_zIsCTGR",
      "execution_count": null,
      "outputs": [
        {
          "output_type": "execute_result",
          "data": {
            "text/plain": [
              "0       False\n",
              "1       False\n",
              "2       False\n",
              "3       False\n",
              "4       False\n",
              "        ...  \n",
              "9989    False\n",
              "9990    False\n",
              "9991    False\n",
              "9992    False\n",
              "9993    False\n",
              "Length: 9994, dtype: bool"
            ]
          },
          "metadata": {},
          "execution_count": 18
        }
      ]
    },
    {
      "cell_type": "code",
      "source": [
        "df2.duplicated().sum()"
      ],
      "metadata": {
        "colab": {
          "base_uri": "https://localhost:8080/"
        },
        "id": "W3VpJiWBDQHY",
        "outputId": "f1e5dda9-e5c6-4e7f-aa11-8077ce2c8328"
      },
      "id": "W3VpJiWBDQHY",
      "execution_count": null,
      "outputs": [
        {
          "output_type": "execute_result",
          "data": {
            "text/plain": [
              "0"
            ]
          },
          "metadata": {},
          "execution_count": 19
        }
      ]
    },
    {
      "cell_type": "markdown",
      "source": [
        "**4. Outliers**\n",
        "\n",
        "Se buscan valores extremos en gráficas tipo \"boxplot\" de las variables numericas, no siempre se deben eliminar ya que pueden contener información importante."
      ],
      "metadata": {
        "id": "NnsV2mSo8zKv"
      },
      "id": "NnsV2mSo8zKv"
    },
    {
      "cell_type": "code",
      "source": [
        "cols_num = ['sales', 'quantity', 'discount', 'profit']\n",
        "\n",
        "fig, ax = plt.subplots(nrows=4, ncols=1, figsize=(20, 15))\n",
        "\n",
        "fig.subplots_adjust(hspace=0.5)\n",
        "\n",
        "for i, col in enumerate(cols_num):\n",
        "\tsns.boxplot(x=col, data= df2, ax=ax[i])\n",
        "\tax[i].set_title(col)"
      ],
      "metadata": {
        "id": "w_XLPx9AfS_E",
        "colab": {
          "base_uri": "https://localhost:8080/",
          "height": 997
        },
        "outputId": "49d38f9d-fc2d-4cef-86c5-cfd53eba2019"
      },
      "id": "w_XLPx9AfS_E",
      "execution_count": null,
      "outputs": [
        {
          "output_type": "display_data",
          "data": {
            "text/plain": [
              "<Figure size 2000x1500 with 4 Axes>"
            ],
            "image/png": "[encoded data removed]"
          },
          "metadata": {}
        }
      ]
    },
    {
      "cell_type": "markdown",
      "source": [
        "Buscamos los límites superiores e inferiores de cada variable para evaluar la cantidad de valores que los superan."
      ],
      "metadata": {
        "id": "jy7tRBt-93pD"
      },
      "id": "jy7tRBt-93pD"
    },
    {
      "cell_type": "code",
      "source": [
        "print(\"Rango intercuartil de Ventas: \\n\")\n",
        "\n",
        "Q1ven = df2['sales'].quantile(0.25)\n",
        "print(\"Primer cuartil: \", Q1ven)\n",
        "\n",
        "Q3ven= df2['sales'].quantile(0.75)\n",
        "print(\"Tercer cuartil: \", Q3ven)\n",
        "\n",
        "IQRven= Q3ven - Q1ven\n",
        "print(\"Rango intercuartil: \", IQRven)"
      ],
      "metadata": {
        "colab": {
          "base_uri": "https://localhost:8080/"
        },
        "id": "wRgvjWlN92Tw",
        "outputId": "c61d9946-ecd6-40b0-c67e-d8d48f8f6085"
      },
      "id": "wRgvjWlN92Tw",
      "execution_count": null,
      "outputs": [
        {
          "output_type": "stream",
          "name": "stdout",
          "text": [
            "Rango intercuartil de Ventas: \n",
            "\n",
            "Primer cuartil:  17.28\n",
            "Tercer cuartil:  209.94\n",
            "Rango intercuartil:  192.66\n"
          ]
        }
      ]
    },
    {
      "cell_type": "code",
      "source": [
        "LI_ven= (Q1ven - 1.5 * IQRven)\n",
        "print(\"Límite inferior de ventas calculado: \", LI_ven )\n",
        "\n",
        "LS_ven= (Q1ven + 1.5 * IQRven)\n",
        "print(\"Límite superior de ventas calculado: \", LS_ven )"
      ],
      "metadata": {
        "colab": {
          "base_uri": "https://localhost:8080/"
        },
        "id": "lGcuPlSVAmwK",
        "outputId": "01328b29-28fa-41e9-fde3-86cfa02c3c33"
      },
      "id": "lGcuPlSVAmwK",
      "execution_count": null,
      "outputs": [
        {
          "output_type": "stream",
          "name": "stdout",
          "text": [
            "Límite inferior de ventas calculado:  -271.71000000000004\n",
            "Límite superior de ventas calculado:  306.27\n"
          ]
        }
      ]
    },
    {
      "cell_type": "code",
      "source": [
        "print(\"Rango intercuartil de Cantidad: \\n\")\n",
        "\n",
        "Q1cant= df2['quantity'].quantile(0.25)\n",
        "print(\"Primer cuartil: \", Q1cant)\n",
        "\n",
        "Q3cant= df2['quantity'].quantile(0.75)\n",
        "print(\"Tercer cuartil: \", Q3cant)\n",
        "\n",
        "IQRcant= Q3cant - Q1cant\n",
        "print(\"Rango intercuartil: \", IQRcant)"
      ],
      "metadata": {
        "colab": {
          "base_uri": "https://localhost:8080/"
        },
        "id": "EiSYTrSM--uz",
        "outputId": "e7bb5bf0-e2c8-4dbb-fb68-65624a282847"
      },
      "id": "EiSYTrSM--uz",
      "execution_count": null,
      "outputs": [
        {
          "output_type": "stream",
          "name": "stdout",
          "text": [
            "Rango intercuartil de Cantidad: \n",
            "\n",
            "Primer cuartil:  2.0\n",
            "Tercer cuartil:  5.0\n",
            "Rango intercuartil:  3.0\n"
          ]
        }
      ]
    },
    {
      "cell_type": "code",
      "source": [
        "LI_cant= (Q1cant - 1.5 * IQRcant)\n",
        "print(\"Límite inferior de cantidad calculado: \", LI_cant )\n",
        "\n",
        "LS_cant= (Q1cant + 1.5 * IQRcant)\n",
        "print(\"Límite superior de cantidad calculado: \", LS_cant )"
      ],
      "metadata": {
        "colab": {
          "base_uri": "https://localhost:8080/"
        },
        "id": "neEjSDQ-A4dq",
        "outputId": "68e0e4a0-3a7b-4537-b18e-6a71106a3457"
      },
      "id": "neEjSDQ-A4dq",
      "execution_count": null,
      "outputs": [
        {
          "output_type": "stream",
          "name": "stdout",
          "text": [
            "Límite inferior de cantidad calculado:  -2.5\n",
            "Límite superior de cantidad calculado:  6.5\n"
          ]
        }
      ]
    },
    {
      "cell_type": "code",
      "source": [
        "print(\"Rango intercuartil de Descuento: \\n\")\n",
        "\n",
        "Q1desc= df2['discount'].quantile(0.25)\n",
        "print(\"Primer cuartil: \", Q1desc)\n",
        "\n",
        "Q3desc= df2['discount'].quantile(0.75)\n",
        "print(\"Tercer cuartil: \", Q3desc)\n",
        "\n",
        "IQRdesc= Q3desc - Q1desc\n",
        "print(\"Rango intercuartil: \", IQRdesc)"
      ],
      "metadata": {
        "colab": {
          "base_uri": "https://localhost:8080/"
        },
        "id": "ESgAq5c__UGU",
        "outputId": "d13ea4f6-ffb4-499d-a8e1-ad1884ef8d90"
      },
      "id": "ESgAq5c__UGU",
      "execution_count": null,
      "outputs": [
        {
          "output_type": "stream",
          "name": "stdout",
          "text": [
            "Rango intercuartil de Descuento: \n",
            "\n",
            "Primer cuartil:  0.0\n",
            "Tercer cuartil:  0.2\n",
            "Rango intercuartil:  0.2\n"
          ]
        }
      ]
    },
    {
      "cell_type": "code",
      "source": [
        "LI_desc = (Q1desc - 1.5 * IQRdesc)\n",
        "print(\"Límite inferior de descuento calculado: \", LI_desc )\n",
        "\n",
        "LS_desc= (Q1desc + 1.5 * IQRdesc)\n",
        "print(\"Límite superior de descuento calculado: \", LS_desc )"
      ],
      "metadata": {
        "colab": {
          "base_uri": "https://localhost:8080/"
        },
        "id": "-8DBc-j1BG3I",
        "outputId": "da768707-a1bc-4b95-f91d-a49bc1cce7a7"
      },
      "id": "-8DBc-j1BG3I",
      "execution_count": null,
      "outputs": [
        {
          "output_type": "stream",
          "name": "stdout",
          "text": [
            "Límite inferior de descuento calculado:  -0.30000000000000004\n",
            "Límite superior de descuento calculado:  0.30000000000000004\n"
          ]
        }
      ]
    },
    {
      "cell_type": "code",
      "source": [
        "print(\"Rango intercuartil de Ganancia: \\n\")\n",
        "\n",
        "Q1gan= df2['profit'].quantile(0.25)\n",
        "print(\"Primer cuartil: \", Q1gan)\n",
        "\n",
        "Q3gan= df2['profit'].quantile(0.75)\n",
        "print(\"Tercer cuartil: \", Q3gan)\n",
        "\n",
        "IQRgan= Q3gan - Q1gan\n",
        "print(\"Rango intercuartil: \", IQRgan)"
      ],
      "metadata": {
        "colab": {
          "base_uri": "https://localhost:8080/"
        },
        "id": "S5jm764__2tl",
        "outputId": "e8259d00-62bb-4120-c267-57e38e3329d5"
      },
      "id": "S5jm764__2tl",
      "execution_count": null,
      "outputs": [
        {
          "output_type": "stream",
          "name": "stdout",
          "text": [
            "Rango intercuartil de Ganancia: \n",
            "\n",
            "Primer cuartil:  1.72875\n",
            "Tercer cuartil:  29.363999999999997\n",
            "Rango intercuartil:  27.635249999999996\n"
          ]
        }
      ]
    },
    {
      "cell_type": "code",
      "source": [
        "LI_gan = (Q1gan - 1.5 * IQRgan)\n",
        "print(\"Límite inferior de ganancia calculado: \", LI_gan )\n",
        "\n",
        "LS_gan = (Q1gan + 1.5 * IQRgan)\n",
        "print(\"Límite superior de ganancia calculado: \", LS_gan )"
      ],
      "metadata": {
        "colab": {
          "base_uri": "https://localhost:8080/"
        },
        "id": "6VrdEn2HBxji",
        "outputId": "5cb95075-ceb2-46b1-ba8f-47d8abbee5b4"
      },
      "id": "6VrdEn2HBxji",
      "execution_count": null,
      "outputs": [
        {
          "output_type": "stream",
          "name": "stdout",
          "text": [
            "Límite inferior de ganancia calculado:  -39.724124999999994\n",
            "Límite superior de ganancia calculado:  43.18162499999999\n"
          ]
        }
      ]
    },
    {
      "cell_type": "markdown",
      "source": [
        "Contamos la cantidad de valores extremos que hay por columna"
      ],
      "metadata": {
        "id": "3-_McX8eFASh"
      },
      "id": "3-_McX8eFASh"
    },
    {
      "cell_type": "code",
      "source": [
        "Outsales = (df2['sales'] < LI_ven) | (df2['sales'] > LS_ven)\n",
        "Outsales.value_counts()"
      ],
      "metadata": {
        "colab": {
          "base_uri": "https://localhost:8080/"
        },
        "id": "SVnoqzTyFExY",
        "outputId": "c1307efb-e91a-4c6c-d3c3-6e91753a7212"
      },
      "id": "SVnoqzTyFExY",
      "execution_count": null,
      "outputs": [
        {
          "output_type": "execute_result",
          "data": {
            "text/plain": [
              "False    8137\n",
              "True     1857\n",
              "Name: sales, dtype: int64"
            ]
          },
          "metadata": {},
          "execution_count": 29
        }
      ]
    },
    {
      "cell_type": "code",
      "source": [
        "Outcant = (df2['quantity'] < LI_cant) | (df2['quantity'] > LS_cant)\n",
        "Outcant.value_counts()"
      ],
      "metadata": {
        "colab": {
          "base_uri": "https://localhost:8080/"
        },
        "id": "oGWbpkSKKw7h",
        "outputId": "96aa93da-0d33-4e78-801c-9baf85ee3e60"
      },
      "id": "oGWbpkSKKw7h",
      "execution_count": null,
      "outputs": [
        {
          "output_type": "execute_result",
          "data": {
            "text/plain": [
              "False    8703\n",
              "True     1291\n",
              "Name: quantity, dtype: int64"
            ]
          },
          "metadata": {},
          "execution_count": 30
        }
      ]
    },
    {
      "cell_type": "code",
      "source": [
        "Outdesc = (df2['discount'] < LI_desc) | (df2['discount'] > LS_desc)\n",
        "Outdesc.value_counts()"
      ],
      "metadata": {
        "colab": {
          "base_uri": "https://localhost:8080/"
        },
        "id": "Z3Th0BApK705",
        "outputId": "ab2e3d65-108b-43ea-aa8d-1ec34efb002d"
      },
      "id": "Z3Th0BApK705",
      "execution_count": null,
      "outputs": [
        {
          "output_type": "execute_result",
          "data": {
            "text/plain": [
              "False    8828\n",
              "True     1166\n",
              "Name: discount, dtype: int64"
            ]
          },
          "metadata": {},
          "execution_count": 31
        }
      ]
    },
    {
      "cell_type": "code",
      "source": [
        "Outgan = (df2['profit'] < LI_gan) | (df2['profit'] > LS_gan)\n",
        "Outgan.value_counts()"
      ],
      "metadata": {
        "colab": {
          "base_uri": "https://localhost:8080/"
        },
        "id": "w-LKsjoRLRUn",
        "outputId": "cf193274-414e-491e-c2d1-95d743a2663d"
      },
      "id": "w-LKsjoRLRUn",
      "execution_count": null,
      "outputs": [
        {
          "output_type": "execute_result",
          "data": {
            "text/plain": [
              "False    7475\n",
              "True     2519\n",
              "Name: profit, dtype: int64"
            ]
          },
          "metadata": {},
          "execution_count": 32
        }
      ]
    },
    {
      "cell_type": "markdown",
      "source": [
        "Eliminamos filas en las columnas con menor cantidad de valores extremos para no modificar tanto la cantidad de datos originales para su análisis."
      ],
      "metadata": {
        "id": "_Gp9FmhOL3bu"
      },
      "id": "_Gp9FmhOL3bu"
    },
    {
      "cell_type": "code",
      "source": [
        "dc1 = df2[~((df2['quantity'] < LI_cant) | (df2['quantity'] > LS_cant))]\n",
        "dc1.shape"
      ],
      "metadata": {
        "colab": {
          "base_uri": "https://localhost:8080/"
        },
        "id": "xfhcf3-TOBzH",
        "outputId": "303fe519-1bb2-4a2d-e322-59ba194aae38"
      },
      "id": "xfhcf3-TOBzH",
      "execution_count": null,
      "outputs": [
        {
          "output_type": "execute_result",
          "data": {
            "text/plain": [
              "(8703, 19)"
            ]
          },
          "metadata": {},
          "execution_count": 33
        }
      ]
    },
    {
      "cell_type": "code",
      "source": [
        "dc2 = dc1[~((dc1['discount'] < LI_desc) | (dc1['discount'] > LS_desc))]\n",
        "dc2.shape"
      ],
      "metadata": {
        "colab": {
          "base_uri": "https://localhost:8080/"
        },
        "id": "F_PAYdZlOYyk",
        "outputId": "62045473-f7e8-4df9-c037-3c71f7504151"
      },
      "id": "F_PAYdZlOYyk",
      "execution_count": null,
      "outputs": [
        {
          "output_type": "execute_result",
          "data": {
            "text/plain": [
              "(7702, 19)"
            ]
          },
          "metadata": {},
          "execution_count": 34
        }
      ]
    },
    {
      "cell_type": "code",
      "source": [
        "dc2.head()"
      ],
      "metadata": {
        "colab": {
          "base_uri": "https://localhost:8080/",
          "height": 513
        },
        "id": "F-SYwi2TnCex",
        "outputId": "10b01a88-616b-4d01-fa89-a817cf67a5f3"
      },
      "id": "F-SYwi2TnCex",
      "execution_count": null,
      "outputs": [
        {
          "output_type": "execute_result",
          "data": {
            "text/plain": [
              "   row_ID        order_ID order_date customer_ID    customer_name    segment  \\\n",
              "0       1  CA-2020-152156 2020-11-08    CG-12520      Claire Gute   Consumer   \n",
              "1       2  CA-2020-152156 2020-11-08    CG-12520      Claire Gute   Consumer   \n",
              "2       3  CA-2020-138688 2020-06-12    DV-13045  Darrin Van Huff  Corporate   \n",
              "4       5  US-2019-108966 2019-10-11    SO-20335   Sean O'Donnell   Consumer   \n",
              "6       7  CA-2018-115812 2018-06-09    BH-11710  Brosina Hoffman   Consumer   \n",
              "\n",
              "              city       state  postalcode region       product_ID  \\\n",
              "0        Henderson    Kentucky   42420.000  South  FUR-BO-10001798   \n",
              "1        Henderson    Kentucky   42420.000  South  FUR-CH-10000454   \n",
              "2      Los Angeles  California   90036.000   West  OFF-LA-10000240   \n",
              "4  Fort Lauderdale     Florida   33311.000  South  OFF-ST-10000760   \n",
              "6      Los Angeles  California   90032.000   West  OFF-AR-10002833   \n",
              "\n",
              "          category sub_category  \\\n",
              "0        Furniture    Bookcases   \n",
              "1        Furniture       Chairs   \n",
              "2  Office Supplies       Labels   \n",
              "4  Office Supplies      Storage   \n",
              "6  Office Supplies          Art   \n",
              "\n",
              "                                        product_name   sales  quantity  \\\n",
              "0                  Bush Somerset Collection Bookcase 261.960         2   \n",
              "1  Hon Deluxe Fabric Upholstered Stacking Chairs,... 731.940         3   \n",
              "2  Self-Adhesive Address Labels for Typewriters b...  14.620         2   \n",
              "4                     Eldon Fold 'N Roll Cart System  22.368         2   \n",
              "6                                         Newell 322   7.280         4   \n",
              "\n",
              "   discount  profit  year_order  \n",
              "0     0.000  41.914        2020  \n",
              "1     0.000 219.582        2020  \n",
              "2     0.000   6.871        2020  \n",
              "4     0.200   2.516        2019  \n",
              "6     0.000   1.966        2018  "
            ],
            "text/html": [
              "\n",
              "  <div id=\"df-75c56515-00d9-49e4-9631-34f1068e38fc\">\n",
              "    <div class=\"colab-df-container\">\n",
              "      <div>\n",
              "<style scoped>\n",
              "    .dataframe tbody tr th:only-of-type {\n",
              "        vertical-align: middle;\n",
              "    }\n",
              "\n",
              "    .dataframe tbody tr th {\n",
              "        vertical-align: top;\n",
              "    }\n",
              "\n",
              "    .dataframe thead th {\n",
              "        text-align: right;\n",
              "    }\n",
              "</style>\n",
              "<table border=\"1\" class=\"dataframe\">\n",
              "  <thead>\n",
              "    <tr style=\"text-align: right;\">\n",
              "      <th></th>\n",
              "      <th>row_ID</th>\n",
              "      <th>order_ID</th>\n",
              "      <th>order_date</th>\n",
              "      <th>customer_ID</th>\n",
              "      <th>customer_name</th>\n",
              "      <th>segment</th>\n",
              "      <th>city</th>\n",
              "      <th>state</th>\n",
              "      <th>postalcode</th>\n",
              "      <th>region</th>\n",
              "      <th>product_ID</th>\n",
              "      <th>category</th>\n",
              "      <th>sub_category</th>\n",
              "      <th>product_name</th>\n",
              "      <th>sales</th>\n",
              "      <th>quantity</th>\n",
              "      <th>discount</th>\n",
              "      <th>profit</th>\n",
              "      <th>year_order</th>\n",
              "    </tr>\n",
              "  </thead>\n",
              "  <tbody>\n",
              "    <tr>\n",
              "      <th>0</th>\n",
              "      <td>1</td>\n",
              "      <td>CA-2020-152156</td>\n",
              "      <td>2020-11-08</td>\n",
              "      <td>CG-12520</td>\n",
              "      <td>Claire Gute</td>\n",
              "      <td>Consumer</td>\n",
              "      <td>Henderson</td>\n",
              "      <td>Kentucky</td>\n",
              "      <td>42420.000</td>\n",
              "      <td>South</td>\n",
              "      <td>FUR-BO-10001798</td>\n",
              "      <td>Furniture</td>\n",
              "      <td>Bookcases</td>\n",
              "      <td>Bush Somerset Collection Bookcase</td>\n",
              "      <td>261.960</td>\n",
              "      <td>2</td>\n",
              "      <td>0.000</td>\n",
              "      <td>41.914</td>\n",
              "      <td>2020</td>\n",
              "    </tr>\n",
              "    <tr>\n",
              "      <th>1</th>\n",
              "      <td>2</td>\n",
              "      <td>CA-2020-152156</td>\n",
              "      <td>2020-11-08</td>\n",
              "      <td>CG-12520</td>\n",
              "      <td>Claire Gute</td>\n",
              "      <td>Consumer</td>\n",
              "      <td>Henderson</td>\n",
              "      <td>Kentucky</td>\n",
              "      <td>42420.000</td>\n",
              "      <td>South</td>\n",
              "      <td>FUR-CH-10000454</td>\n",
              "      <td>Furniture</td>\n",
              "      <td>Chairs</td>\n",
              "      <td>Hon Deluxe Fabric Upholstered Stacking Chairs,...</td>\n",
              "      <td>731.940</td>\n",
              "      <td>3</td>\n",
              "      <td>0.000</td>\n",
              "      <td>219.582</td>\n",
              "      <td>2020</td>\n",
              "    </tr>\n",
              "    <tr>\n",
              "      <th>2</th>\n",
              "      <td>3</td>\n",
              "      <td>CA-2020-138688</td>\n",
              "      <td>2020-06-12</td>\n",
              "      <td>DV-13045</td>\n",
              "      <td>Darrin Van Huff</td>\n",
              "      <td>Corporate</td>\n",
              "      <td>Los Angeles</td>\n",
              "      <td>California</td>\n",
              "      <td>90036.000</td>\n",
              "      <td>West</td>\n",
              "      <td>OFF-LA-10000240</td>\n",
              "      <td>Office Supplies</td>\n",
              "      <td>Labels</td>\n",
              "      <td>Self-Adhesive Address Labels for Typewriters b...</td>\n",
              "      <td>14.620</td>\n",
              "      <td>2</td>\n",
              "      <td>0.000</td>\n",
              "      <td>6.871</td>\n",
              "      <td>2020</td>\n",
              "    </tr>\n",
              "    <tr>\n",
              "      <th>4</th>\n",
              "      <td>5</td>\n",
              "      <td>US-2019-108966</td>\n",
              "      <td>2019-10-11</td>\n",
              "      <td>SO-20335</td>\n",
              "      <td>Sean O'Donnell</td>\n",
              "      <td>Consumer</td>\n",
              "      <td>Fort Lauderdale</td>\n",
              "      <td>Florida</td>\n",
              "      <td>33311.000</td>\n",
              "      <td>South</td>\n",
              "      <td>OFF-ST-10000760</td>\n",
              "      <td>Office Supplies</td>\n",
              "      <td>Storage</td>\n",
              "      <td>Eldon Fold 'N Roll Cart System</td>\n",
              "      <td>22.368</td>\n",
              "      <td>2</td>\n",
              "      <td>0.200</td>\n",
              "      <td>2.516</td>\n",
              "      <td>2019</td>\n",
              "    </tr>\n",
              "    <tr>\n",
              "      <th>6</th>\n",
              "      <td>7</td>\n",
              "      <td>CA-2018-115812</td>\n",
              "      <td>2018-06-09</td>\n",
              "      <td>BH-11710</td>\n",
              "      <td>Brosina Hoffman</td>\n",
              "      <td>Consumer</td>\n",
              "      <td>Los Angeles</td>\n",
              "      <td>California</td>\n",
              "      <td>90032.000</td>\n",
              "      <td>West</td>\n",
              "      <td>OFF-AR-10002833</td>\n",
              "      <td>Office Supplies</td>\n",
              "      <td>Art</td>\n",
              "      <td>Newell 322</td>\n",
              "      <td>7.280</td>\n",
              "      <td>4</td>\n",
              "      <td>0.000</td>\n",
              "      <td>1.966</td>\n",
              "      <td>2018</td>\n",
              "    </tr>\n",
              "  </tbody>\n",
              "</table>\n",
              "</div>\n",
              "      <button class=\"colab-df-convert\" onclick=\"convertToInteractive('df-75c56515-00d9-49e4-9631-34f1068e38fc')\"\n",
              "              title=\"Convert this dataframe to an interactive table.\"\n",
              "              style=\"display:none;\">\n",
              "        \n",
              "  <svg xmlns=\"http://www.w3.org/2000/svg\" height=\"24px\"viewBox=\"0 0 24 24\"\n",
              "       width=\"24px\">\n",
              "    <path d=\"M0 0h24v24H0V0z\" fill=\"none\"/>\n",
              "    <path d=\"M18.56 5.44l.94 2.06.94-2.06 2.06-.94-2.06-.94-.94-2.06-.94 2.06-2.06.94zm-11 1L8.5 8.5l.94-2.06 2.06-.94-2.06-.94L8.5 2.5l-.94 2.06-2.06.94zm10 10l.94 2.06.94-2.06 2.06-.94-2.06-.94-.94-2.06-.94 2.06-2.06.94z\"/><path d=\"M17.41 7.96l-1.37-1.37c-.4-.4-.92-.59-1.43-.59-.52 0-1.04.2-1.43.59L10.3 9.45l-7.72 7.72c-.78.78-.78 2.05 0 2.83L4 21.41c.39.39.9.59 1.41.59.51 0 1.02-.2 1.41-.59l7.78-7.78 2.81-2.81c.8-.78.8-2.07 0-2.86zM5.41 20L4 18.59l7.72-7.72 1.47 1.35L5.41 20z\"/>\n",
              "  </svg>\n",
              "      </button>\n",
              "      \n",
              "  <style>\n",
              "    .colab-df-container {\n",
              "      display:flex;\n",
              "      flex-wrap:wrap;\n",
              "      gap: 12px;\n",
              "    }\n",
              "\n",
              "    .colab-df-convert {\n",
              "      background-color: #E8F0FE;\n",
              "      border: none;\n",
              "      border-radius: 50%;\n",
              "      cursor: pointer;\n",
              "      display: none;\n",
              "      fill: #1967D2;\n",
              "      height: 32px;\n",
              "      padding: 0 0 0 0;\n",
              "      width: 32px;\n",
              "    }\n",
              "\n",
              "    .colab-df-convert:hover {\n",
              "      background-color: #E2EBFA;\n",
              "      box-shadow: 0px 1px 2px rgba(60, 64, 67, 0.3), 0px 1px 3px 1px rgba(60, 64, 67, 0.15);\n",
              "      fill: #174EA6;\n",
              "    }\n",
              "\n",
              "    [theme=dark] .colab-df-convert {\n",
              "      background-color: #3B4455;\n",
              "      fill: #D2E3FC;\n",
              "    }\n",
              "\n",
              "    [theme=dark] .colab-df-convert:hover {\n",
              "      background-color: #434B5C;\n",
              "      box-shadow: 0px 1px 3px 1px rgba(0, 0, 0, 0.15);\n",
              "      filter: drop-shadow(0px 1px 2px rgba(0, 0, 0, 0.3));\n",
              "      fill: #FFFFFF;\n",
              "    }\n",
              "  </style>\n",
              "\n",
              "      <script>\n",
              "        const buttonEl =\n",
              "          document.querySelector('#df-75c56515-00d9-49e4-9631-34f1068e38fc button.colab-df-convert');\n",
              "        buttonEl.style.display =\n",
              "          google.colab.kernel.accessAllowed ? 'block' : 'none';\n",
              "\n",
              "        async function convertToInteractive(key) {\n",
              "          const element = document.querySelector('#df-75c56515-00d9-49e4-9631-34f1068e38fc');\n",
              "          const dataTable =\n",
              "            await google.colab.kernel.invokeFunction('convertToInteractive',\n",
              "                                                     [key], {});\n",
              "          if (!dataTable) return;\n",
              "\n",
              "          const docLinkHtml = 'Like what you see? Visit the ' +\n",
              "            '<a target=\"_blank\" href=https://colab.research.google.com/notebooks/data_table.ipynb>data table notebook</a>'\n",
              "            + ' to learn more about interactive tables.';\n",
              "          element.innerHTML = '';\n",
              "          dataTable['output_type'] = 'display_data';\n",
              "          await google.colab.output.renderOutput(dataTable, element);\n",
              "          const docLink = document.createElement('div');\n",
              "          docLink.innerHTML = docLinkHtml;\n",
              "          element.appendChild(docLink);\n",
              "        }\n",
              "      </script>\n",
              "    </div>\n",
              "  </div>\n",
              "  "
            ]
          },
          "metadata": {},
          "execution_count": 35
        }
      ]
    },
    {
      "cell_type": "markdown",
      "source": [
        "##Storytelling\n",
        "\n",
        "\n",
        "El objetivo de este análisis es poder responder a las siguientes preguntas:\n",
        "1.\t¿Qué región vende más?\n",
        "2.\t¿Cuál es la categoria mas comprada?\n",
        "3.\t¿Que tipo de comprador es el mas habitual?\n",
        "4.\t¿Cuáles son las 5 sub categorias que más facturaron?\n",
        "5.\t¿Cualés son los mayores descuentos por categoria y sub categoria?\n",
        "\n",
        "Lo que buscamos con este análisis es poder tener una mejor comprensión de las preferencias del cliente para poder focalizar en aquellas categorías que mas rentabilidad le proporciona a la compañía.\n",
        "Para esto proponemos a continuación una serie de gráficos que les permitirán tener una mejor comprensión del análisis realizado.\n"
      ],
      "metadata": {
        "id": "rDqTaXjKER03"
      },
      "id": "rDqTaXjKER03"
    },
    {
      "cell_type": "markdown",
      "source": [
        "**Aplicamos un describe para visualizar las funciones de agregacion en el DS**"
      ],
      "metadata": {
        "id": "NGLsxjLA858B"
      },
      "id": "NGLsxjLA858B"
    },
    {
      "cell_type": "code",
      "source": [
        "dc2.describe()"
      ],
      "metadata": {
        "colab": {
          "base_uri": "https://localhost:8080/",
          "height": 300
        },
        "id": "ACd2LW0y4SzM",
        "outputId": "294a88d0-86f5-4e32-c9d4-cc57fa33d4ba"
      },
      "id": "ACd2LW0y4SzM",
      "execution_count": null,
      "outputs": [
        {
          "output_type": "execute_result",
          "data": {
            "text/plain": [
              "        row_ID  postalcode     sales  quantity  discount   profit  year_order\n",
              "count 7702.000    7693.000  7702.000  7702.000  7702.000 7702.000    7702.000\n",
              "mean  5009.370   55460.625   196.875     3.127     0.093   39.028    2019.721\n",
              "std   2862.231   32942.241   530.043     1.398     0.103  195.228       1.126\n",
              "min      1.000    1040.000     0.990     1.000     0.000 -786.014    2018.000\n",
              "25%   2541.500   22204.000    17.088     2.000     0.000    3.389    2019.000\n",
              "50%   5044.000   55407.000    50.910     3.000     0.000    9.389    2020.000\n",
              "75%   7471.500   90036.000   191.966     4.000     0.200   29.484    2021.000\n",
              "max   9994.000   99301.000 17499.950     6.000     0.300 8399.976    2021.000"
            ],
            "text/html": [
              "\n",
              "  <div id=\"df-c611c526-509d-4272-916a-10a07bb43b41\">\n",
              "    <div class=\"colab-df-container\">\n",
              "      <div>\n",
              "<style scoped>\n",
              "    .dataframe tbody tr th:only-of-type {\n",
              "        vertical-align: middle;\n",
              "    }\n",
              "\n",
              "    .dataframe tbody tr th {\n",
              "        vertical-align: top;\n",
              "    }\n",
              "\n",
              "    .dataframe thead th {\n",
              "        text-align: right;\n",
              "    }\n",
              "</style>\n",
              "<table border=\"1\" class=\"dataframe\">\n",
              "  <thead>\n",
              "    <tr style=\"text-align: right;\">\n",
              "      <th></th>\n",
              "      <th>row_ID</th>\n",
              "      <th>postalcode</th>\n",
              "      <th>sales</th>\n",
              "      <th>quantity</th>\n",
              "      <th>discount</th>\n",
              "      <th>profit</th>\n",
              "      <th>year_order</th>\n",
              "    </tr>\n",
              "  </thead>\n",
              "  <tbody>\n",
              "    <tr>\n",
              "      <th>count</th>\n",
              "      <td>7702.000</td>\n",
              "      <td>7693.000</td>\n",
              "      <td>7702.000</td>\n",
              "      <td>7702.000</td>\n",
              "      <td>7702.000</td>\n",
              "      <td>7702.000</td>\n",
              "      <td>7702.000</td>\n",
              "    </tr>\n",
              "    <tr>\n",
              "      <th>mean</th>\n",
              "      <td>5009.370</td>\n",
              "      <td>55460.625</td>\n",
              "      <td>196.875</td>\n",
              "      <td>3.127</td>\n",
              "      <td>0.093</td>\n",
              "      <td>39.028</td>\n",
              "      <td>2019.721</td>\n",
              "    </tr>\n",
              "    <tr>\n",
              "      <th>std</th>\n",
              "      <td>2862.231</td>\n",
              "      <td>32942.241</td>\n",
              "      <td>530.043</td>\n",
              "      <td>1.398</td>\n",
              "      <td>0.103</td>\n",
              "      <td>195.228</td>\n",
              "      <td>1.126</td>\n",
              "    </tr>\n",
              "    <tr>\n",
              "      <th>min</th>\n",
              "      <td>1.000</td>\n",
              "      <td>1040.000</td>\n",
              "      <td>0.990</td>\n",
              "      <td>1.000</td>\n",
              "      <td>0.000</td>\n",
              "      <td>-786.014</td>\n",
              "      <td>2018.000</td>\n",
              "    </tr>\n",
              "    <tr>\n",
              "      <th>25%</th>\n",
              "      <td>2541.500</td>\n",
              "      <td>22204.000</td>\n",
              "      <td>17.088</td>\n",
              "      <td>2.000</td>\n",
              "      <td>0.000</td>\n",
              "      <td>3.389</td>\n",
              "      <td>2019.000</td>\n",
              "    </tr>\n",
              "    <tr>\n",
              "      <th>50%</th>\n",
              "      <td>5044.000</td>\n",
              "      <td>55407.000</td>\n",
              "      <td>50.910</td>\n",
              "      <td>3.000</td>\n",
              "      <td>0.000</td>\n",
              "      <td>9.389</td>\n",
              "      <td>2020.000</td>\n",
              "    </tr>\n",
              "    <tr>\n",
              "      <th>75%</th>\n",
              "      <td>7471.500</td>\n",
              "      <td>90036.000</td>\n",
              "      <td>191.966</td>\n",
              "      <td>4.000</td>\n",
              "      <td>0.200</td>\n",
              "      <td>29.484</td>\n",
              "      <td>2021.000</td>\n",
              "    </tr>\n",
              "    <tr>\n",
              "      <th>max</th>\n",
              "      <td>9994.000</td>\n",
              "      <td>99301.000</td>\n",
              "      <td>17499.950</td>\n",
              "      <td>6.000</td>\n",
              "      <td>0.300</td>\n",
              "      <td>8399.976</td>\n",
              "      <td>2021.000</td>\n",
              "    </tr>\n",
              "  </tbody>\n",
              "</table>\n",
              "</div>\n",
              "      <button class=\"colab-df-convert\" onclick=\"convertToInteractive('df-c611c526-509d-4272-916a-10a07bb43b41')\"\n",
              "              title=\"Convert this dataframe to an interactive table.\"\n",
              "              style=\"display:none;\">\n",
              "        \n",
              "  <svg xmlns=\"http://www.w3.org/2000/svg\" height=\"24px\"viewBox=\"0 0 24 24\"\n",
              "       width=\"24px\">\n",
              "    <path d=\"M0 0h24v24H0V0z\" fill=\"none\"/>\n",
              "    <path d=\"M18.56 5.44l.94 2.06.94-2.06 2.06-.94-2.06-.94-.94-2.06-.94 2.06-2.06.94zm-11 1L8.5 8.5l.94-2.06 2.06-.94-2.06-.94L8.5 2.5l-.94 2.06-2.06.94zm10 10l.94 2.06.94-2.06 2.06-.94-2.06-.94-.94-2.06-.94 2.06-2.06.94z\"/><path d=\"M17.41 7.96l-1.37-1.37c-.4-.4-.92-.59-1.43-.59-.52 0-1.04.2-1.43.59L10.3 9.45l-7.72 7.72c-.78.78-.78 2.05 0 2.83L4 21.41c.39.39.9.59 1.41.59.51 0 1.02-.2 1.41-.59l7.78-7.78 2.81-2.81c.8-.78.8-2.07 0-2.86zM5.41 20L4 18.59l7.72-7.72 1.47 1.35L5.41 20z\"/>\n",
              "  </svg>\n",
              "      </button>\n",
              "      \n",
              "  <style>\n",
              "    .colab-df-container {\n",
              "      display:flex;\n",
              "      flex-wrap:wrap;\n",
              "      gap: 12px;\n",
              "    }\n",
              "\n",
              "    .colab-df-convert {\n",
              "      background-color: #E8F0FE;\n",
              "      border: none;\n",
              "      border-radius: 50%;\n",
              "      cursor: pointer;\n",
              "      display: none;\n",
              "      fill: #1967D2;\n",
              "      height: 32px;\n",
              "      padding: 0 0 0 0;\n",
              "      width: 32px;\n",
              "    }\n",
              "\n",
              "    .colab-df-convert:hover {\n",
              "      background-color: #E2EBFA;\n",
              "      box-shadow: 0px 1px 2px rgba(60, 64, 67, 0.3), 0px 1px 3px 1px rgba(60, 64, 67, 0.15);\n",
              "      fill: #174EA6;\n",
              "    }\n",
              "\n",
              "    [theme=dark] .colab-df-convert {\n",
              "      background-color: #3B4455;\n",
              "      fill: #D2E3FC;\n",
              "    }\n",
              "\n",
              "    [theme=dark] .colab-df-convert:hover {\n",
              "      background-color: #434B5C;\n",
              "      box-shadow: 0px 1px 3px 1px rgba(0, 0, 0, 0.15);\n",
              "      filter: drop-shadow(0px 1px 2px rgba(0, 0, 0, 0.3));\n",
              "      fill: #FFFFFF;\n",
              "    }\n",
              "  </style>\n",
              "\n",
              "      <script>\n",
              "        const buttonEl =\n",
              "          document.querySelector('#df-c611c526-509d-4272-916a-10a07bb43b41 button.colab-df-convert');\n",
              "        buttonEl.style.display =\n",
              "          google.colab.kernel.accessAllowed ? 'block' : 'none';\n",
              "\n",
              "        async function convertToInteractive(key) {\n",
              "          const element = document.querySelector('#df-c611c526-509d-4272-916a-10a07bb43b41');\n",
              "          const dataTable =\n",
              "            await google.colab.kernel.invokeFunction('convertToInteractive',\n",
              "                                                     [key], {});\n",
              "          if (!dataTable) return;\n",
              "\n",
              "          const docLinkHtml = 'Like what you see? Visit the ' +\n",
              "            '<a target=\"_blank\" href=https://colab.research.google.com/notebooks/data_table.ipynb>data table notebook</a>'\n",
              "            + ' to learn more about interactive tables.';\n",
              "          element.innerHTML = '';\n",
              "          dataTable['output_type'] = 'display_data';\n",
              "          await google.colab.output.renderOutput(dataTable, element);\n",
              "          const docLink = document.createElement('div');\n",
              "          docLink.innerHTML = docLinkHtml;\n",
              "          element.appendChild(docLink);\n",
              "        }\n",
              "      </script>\n",
              "    </div>\n",
              "  </div>\n",
              "  "
            ]
          },
          "metadata": {},
          "execution_count": 36
        }
      ]
    },
    {
      "cell_type": "markdown",
      "source": [
        "Hacemos un agrupado con categoria y subcategoria para poder analizar los datos"
      ],
      "metadata": {
        "id": "XNd2hubA4q64"
      },
      "id": "XNd2hubA4q64"
    },
    {
      "cell_type": "code",
      "source": [
        "dc2.groupby(by=['category','sub_category']).mean()"
      ],
      "metadata": {
        "colab": {
          "base_uri": "https://localhost:8080/",
          "height": 614
        },
        "id": "87YqpWok4sh0",
        "outputId": "c344371f-f2d2-4e20-8d15-bd5dc27d79ed"
      },
      "id": "87YqpWok4sh0",
      "execution_count": null,
      "outputs": [
        {
          "output_type": "execute_result",
          "data": {
            "text/plain": [
              "                               row_ID  postalcode    sales  quantity  \\\n",
              "category        sub_category                                           \n",
              "Furniture       Bookcases    4873.845   52412.946  447.400     3.014   \n",
              "                Chairs       5084.900   58193.901  457.742     3.154   \n",
              "                Furnishings  5007.097   50759.017   91.780     3.124   \n",
              "                Tables       5118.012   69346.366  557.227     3.043   \n",
              "Office Supplies Appliances   5123.762   52072.531  211.259     3.176   \n",
              "                Art          4901.958   54340.229   28.002     3.119   \n",
              "                Binders      5020.292   56258.545  163.359     3.199   \n",
              "                Envelopes    4720.291   53796.964   56.077     2.987   \n",
              "                Fasteners    4830.648   59146.291   11.396     3.401   \n",
              "                Labels       5070.935   52942.220   25.640     3.061   \n",
              "                Paper        5040.078   55612.728   48.457     3.118   \n",
              "                Storage      4878.162   54041.575  227.551     3.144   \n",
              "                Supplies     5235.169   56376.198  233.333     2.988   \n",
              "Technology      Accessories  5109.999   56974.315  176.047     3.139   \n",
              "                Copiers      5082.778   63005.074 2125.159     3.019   \n",
              "                Machines     5197.304   60441.036 1540.400     3.232   \n",
              "                Phones       5019.317   56818.699  309.672     3.074   \n",
              "\n",
              "                              discount  profit  year_order  \n",
              "category        sub_category                                \n",
              "Furniture       Bookcases        0.121  32.402    2019.730  \n",
              "                Chairs           0.173  31.511    2019.709  \n",
              "                Furnishings      0.061  19.550    2019.744  \n",
              "                Tables           0.162  24.435    2019.695  \n",
              "Office Supplies Appliances       0.061  53.192    2019.669  \n",
              "                Art              0.074   6.855    2019.724  \n",
              "                Binders          0.127  66.817    2019.732  \n",
              "                Envelopes        0.081  24.121    2019.614  \n",
              "                Fasteners        0.079   3.827    2019.604  \n",
              "                Labels           0.073  11.364    2019.689  \n",
              "                Paper            0.074  21.197    2019.743  \n",
              "                Storage          0.077  18.901    2019.713  \n",
              "                Supplies         0.073  -1.966    2019.715  \n",
              "Technology      Accessories      0.078  45.288    2019.775  \n",
              "                Copiers          0.133 838.750    2019.796  \n",
              "                Machines         0.130 415.116    2019.696  \n",
              "                Phones           0.119  53.327    2019.717  "
            ],
            "text/html": [
              "\n",
              "  <div id=\"df-48cce145-62f2-4fe7-a300-1ffcd996bc99\">\n",
              "    <div class=\"colab-df-container\">\n",
              "      <div>\n",
              "<style scoped>\n",
              "    .dataframe tbody tr th:only-of-type {\n",
              "        vertical-align: middle;\n",
              "    }\n",
              "\n",
              "    .dataframe tbody tr th {\n",
              "        vertical-align: top;\n",
              "    }\n",
              "\n",
              "    .dataframe thead th {\n",
              "        text-align: right;\n",
              "    }\n",
              "</style>\n",
              "<table border=\"1\" class=\"dataframe\">\n",
              "  <thead>\n",
              "    <tr style=\"text-align: right;\">\n",
              "      <th></th>\n",
              "      <th></th>\n",
              "      <th>row_ID</th>\n",
              "      <th>postalcode</th>\n",
              "      <th>sales</th>\n",
              "      <th>quantity</th>\n",
              "      <th>discount</th>\n",
              "      <th>profit</th>\n",
              "      <th>year_order</th>\n",
              "    </tr>\n",
              "    <tr>\n",
              "      <th>category</th>\n",
              "      <th>sub_category</th>\n",
              "      <th></th>\n",
              "      <th></th>\n",
              "      <th></th>\n",
              "      <th></th>\n",
              "      <th></th>\n",
              "      <th></th>\n",
              "      <th></th>\n",
              "    </tr>\n",
              "  </thead>\n",
              "  <tbody>\n",
              "    <tr>\n",
              "      <th rowspan=\"4\" valign=\"top\">Furniture</th>\n",
              "      <th>Bookcases</th>\n",
              "      <td>4873.845</td>\n",
              "      <td>52412.946</td>\n",
              "      <td>447.400</td>\n",
              "      <td>3.014</td>\n",
              "      <td>0.121</td>\n",
              "      <td>32.402</td>\n",
              "      <td>2019.730</td>\n",
              "    </tr>\n",
              "    <tr>\n",
              "      <th>Chairs</th>\n",
              "      <td>5084.900</td>\n",
              "      <td>58193.901</td>\n",
              "      <td>457.742</td>\n",
              "      <td>3.154</td>\n",
              "      <td>0.173</td>\n",
              "      <td>31.511</td>\n",
              "      <td>2019.709</td>\n",
              "    </tr>\n",
              "    <tr>\n",
              "      <th>Furnishings</th>\n",
              "      <td>5007.097</td>\n",
              "      <td>50759.017</td>\n",
              "      <td>91.780</td>\n",
              "      <td>3.124</td>\n",
              "      <td>0.061</td>\n",
              "      <td>19.550</td>\n",
              "      <td>2019.744</td>\n",
              "    </tr>\n",
              "    <tr>\n",
              "      <th>Tables</th>\n",
              "      <td>5118.012</td>\n",
              "      <td>69346.366</td>\n",
              "      <td>557.227</td>\n",
              "      <td>3.043</td>\n",
              "      <td>0.162</td>\n",
              "      <td>24.435</td>\n",
              "      <td>2019.695</td>\n",
              "    </tr>\n",
              "    <tr>\n",
              "      <th rowspan=\"9\" valign=\"top\">Office Supplies</th>\n",
              "      <th>Appliances</th>\n",
              "      <td>5123.762</td>\n",
              "      <td>52072.531</td>\n",
              "      <td>211.259</td>\n",
              "      <td>3.176</td>\n",
              "      <td>0.061</td>\n",
              "      <td>53.192</td>\n",
              "      <td>2019.669</td>\n",
              "    </tr>\n",
              "    <tr>\n",
              "      <th>Art</th>\n",
              "      <td>4901.958</td>\n",
              "      <td>54340.229</td>\n",
              "      <td>28.002</td>\n",
              "      <td>3.119</td>\n",
              "      <td>0.074</td>\n",
              "      <td>6.855</td>\n",
              "      <td>2019.724</td>\n",
              "    </tr>\n",
              "    <tr>\n",
              "      <th>Binders</th>\n",
              "      <td>5020.292</td>\n",
              "      <td>56258.545</td>\n",
              "      <td>163.359</td>\n",
              "      <td>3.199</td>\n",
              "      <td>0.127</td>\n",
              "      <td>66.817</td>\n",
              "      <td>2019.732</td>\n",
              "    </tr>\n",
              "    <tr>\n",
              "      <th>Envelopes</th>\n",
              "      <td>4720.291</td>\n",
              "      <td>53796.964</td>\n",
              "      <td>56.077</td>\n",
              "      <td>2.987</td>\n",
              "      <td>0.081</td>\n",
              "      <td>24.121</td>\n",
              "      <td>2019.614</td>\n",
              "    </tr>\n",
              "    <tr>\n",
              "      <th>Fasteners</th>\n",
              "      <td>4830.648</td>\n",
              "      <td>59146.291</td>\n",
              "      <td>11.396</td>\n",
              "      <td>3.401</td>\n",
              "      <td>0.079</td>\n",
              "      <td>3.827</td>\n",
              "      <td>2019.604</td>\n",
              "    </tr>\n",
              "    <tr>\n",
              "      <th>Labels</th>\n",
              "      <td>5070.935</td>\n",
              "      <td>52942.220</td>\n",
              "      <td>25.640</td>\n",
              "      <td>3.061</td>\n",
              "      <td>0.073</td>\n",
              "      <td>11.364</td>\n",
              "      <td>2019.689</td>\n",
              "    </tr>\n",
              "    <tr>\n",
              "      <th>Paper</th>\n",
              "      <td>5040.078</td>\n",
              "      <td>55612.728</td>\n",
              "      <td>48.457</td>\n",
              "      <td>3.118</td>\n",
              "      <td>0.074</td>\n",
              "      <td>21.197</td>\n",
              "      <td>2019.743</td>\n",
              "    </tr>\n",
              "    <tr>\n",
              "      <th>Storage</th>\n",
              "      <td>4878.162</td>\n",
              "      <td>54041.575</td>\n",
              "      <td>227.551</td>\n",
              "      <td>3.144</td>\n",
              "      <td>0.077</td>\n",
              "      <td>18.901</td>\n",
              "      <td>2019.713</td>\n",
              "    </tr>\n",
              "    <tr>\n",
              "      <th>Supplies</th>\n",
              "      <td>5235.169</td>\n",
              "      <td>56376.198</td>\n",
              "      <td>233.333</td>\n",
              "      <td>2.988</td>\n",
              "      <td>0.073</td>\n",
              "      <td>-1.966</td>\n",
              "      <td>2019.715</td>\n",
              "    </tr>\n",
              "    <tr>\n",
              "      <th rowspan=\"4\" valign=\"top\">Technology</th>\n",
              "      <th>Accessories</th>\n",
              "      <td>5109.999</td>\n",
              "      <td>56974.315</td>\n",
              "      <td>176.047</td>\n",
              "      <td>3.139</td>\n",
              "      <td>0.078</td>\n",
              "      <td>45.288</td>\n",
              "      <td>2019.775</td>\n",
              "    </tr>\n",
              "    <tr>\n",
              "      <th>Copiers</th>\n",
              "      <td>5082.778</td>\n",
              "      <td>63005.074</td>\n",
              "      <td>2125.159</td>\n",
              "      <td>3.019</td>\n",
              "      <td>0.133</td>\n",
              "      <td>838.750</td>\n",
              "      <td>2019.796</td>\n",
              "    </tr>\n",
              "    <tr>\n",
              "      <th>Machines</th>\n",
              "      <td>5197.304</td>\n",
              "      <td>60441.036</td>\n",
              "      <td>1540.400</td>\n",
              "      <td>3.232</td>\n",
              "      <td>0.130</td>\n",
              "      <td>415.116</td>\n",
              "      <td>2019.696</td>\n",
              "    </tr>\n",
              "    <tr>\n",
              "      <th>Phones</th>\n",
              "      <td>5019.317</td>\n",
              "      <td>56818.699</td>\n",
              "      <td>309.672</td>\n",
              "      <td>3.074</td>\n",
              "      <td>0.119</td>\n",
              "      <td>53.327</td>\n",
              "      <td>2019.717</td>\n",
              "    </tr>\n",
              "  </tbody>\n",
              "</table>\n",
              "</div>\n",
              "      <button class=\"colab-df-convert\" onclick=\"convertToInteractive('df-48cce145-62f2-4fe7-a300-1ffcd996bc99')\"\n",
              "              title=\"Convert this dataframe to an interactive table.\"\n",
              "              style=\"display:none;\">\n",
              "        \n",
              "  <svg xmlns=\"http://www.w3.org/2000/svg\" height=\"24px\"viewBox=\"0 0 24 24\"\n",
              "       width=\"24px\">\n",
              "    <path d=\"M0 0h24v24H0V0z\" fill=\"none\"/>\n",
              "    <path d=\"M18.56 5.44l.94 2.06.94-2.06 2.06-.94-2.06-.94-.94-2.06-.94 2.06-2.06.94zm-11 1L8.5 8.5l.94-2.06 2.06-.94-2.06-.94L8.5 2.5l-.94 2.06-2.06.94zm10 10l.94 2.06.94-2.06 2.06-.94-2.06-.94-.94-2.06-.94 2.06-2.06.94z\"/><path d=\"M17.41 7.96l-1.37-1.37c-.4-.4-.92-.59-1.43-.59-.52 0-1.04.2-1.43.59L10.3 9.45l-7.72 7.72c-.78.78-.78 2.05 0 2.83L4 21.41c.39.39.9.59 1.41.59.51 0 1.02-.2 1.41-.59l7.78-7.78 2.81-2.81c.8-.78.8-2.07 0-2.86zM5.41 20L4 18.59l7.72-7.72 1.47 1.35L5.41 20z\"/>\n",
              "  </svg>\n",
              "      </button>\n",
              "      \n",
              "  <style>\n",
              "    .colab-df-container {\n",
              "      display:flex;\n",
              "      flex-wrap:wrap;\n",
              "      gap: 12px;\n",
              "    }\n",
              "\n",
              "    .colab-df-convert {\n",
              "      background-color: #E8F0FE;\n",
              "      border: none;\n",
              "      border-radius: 50%;\n",
              "      cursor: pointer;\n",
              "      display: none;\n",
              "      fill: #1967D2;\n",
              "      height: 32px;\n",
              "      padding: 0 0 0 0;\n",
              "      width: 32px;\n",
              "    }\n",
              "\n",
              "    .colab-df-convert:hover {\n",
              "      background-color: #E2EBFA;\n",
              "      box-shadow: 0px 1px 2px rgba(60, 64, 67, 0.3), 0px 1px 3px 1px rgba(60, 64, 67, 0.15);\n",
              "      fill: #174EA6;\n",
              "    }\n",
              "\n",
              "    [theme=dark] .colab-df-convert {\n",
              "      background-color: #3B4455;\n",
              "      fill: #D2E3FC;\n",
              "    }\n",
              "\n",
              "    [theme=dark] .colab-df-convert:hover {\n",
              "      background-color: #434B5C;\n",
              "      box-shadow: 0px 1px 3px 1px rgba(0, 0, 0, 0.15);\n",
              "      filter: drop-shadow(0px 1px 2px rgba(0, 0, 0, 0.3));\n",
              "      fill: #FFFFFF;\n",
              "    }\n",
              "  </style>\n",
              "\n",
              "      <script>\n",
              "        const buttonEl =\n",
              "          document.querySelector('#df-48cce145-62f2-4fe7-a300-1ffcd996bc99 button.colab-df-convert');\n",
              "        buttonEl.style.display =\n",
              "          google.colab.kernel.accessAllowed ? 'block' : 'none';\n",
              "\n",
              "        async function convertToInteractive(key) {\n",
              "          const element = document.querySelector('#df-48cce145-62f2-4fe7-a300-1ffcd996bc99');\n",
              "          const dataTable =\n",
              "            await google.colab.kernel.invokeFunction('convertToInteractive',\n",
              "                                                     [key], {});\n",
              "          if (!dataTable) return;\n",
              "\n",
              "          const docLinkHtml = 'Like what you see? Visit the ' +\n",
              "            '<a target=\"_blank\" href=https://colab.research.google.com/notebooks/data_table.ipynb>data table notebook</a>'\n",
              "            + ' to learn more about interactive tables.';\n",
              "          element.innerHTML = '';\n",
              "          dataTable['output_type'] = 'display_data';\n",
              "          await google.colab.output.renderOutput(dataTable, element);\n",
              "          const docLink = document.createElement('div');\n",
              "          docLink.innerHTML = docLinkHtml;\n",
              "          element.appendChild(docLink);\n",
              "        }\n",
              "      </script>\n",
              "    </div>\n",
              "  </div>\n",
              "  "
            ]
          },
          "metadata": {},
          "execution_count": 37
        }
      ]
    },
    {
      "cell_type": "markdown",
      "source": [
        "**¿Qué región vende más?**"
      ],
      "metadata": {
        "id": "VFe8VLfFG5EN"
      },
      "id": "VFe8VLfFG5EN"
    },
    {
      "cell_type": "code",
      "source": [
        "salesxreg = dc2['sales'].groupby(dc2['region']).sum()\n",
        "salesxreg"
      ],
      "metadata": {
        "colab": {
          "base_uri": "https://localhost:8080/"
        },
        "id": "4A4H7VRsE-65",
        "outputId": "0d2643d1-b3e0-4564-871a-f04ea58c4369"
      },
      "id": "4A4H7VRsE-65",
      "execution_count": null,
      "outputs": [
        {
          "output_type": "execute_result",
          "data": {
            "text/plain": [
              "region\n",
              "Central   339051.883\n",
              "East      416205.529\n",
              "South     230421.304\n",
              "West      530654.609\n",
              "Name: sales, dtype: float64"
            ]
          },
          "metadata": {},
          "execution_count": 38
        }
      ]
    },
    {
      "cell_type": "code",
      "source": [
        "sns.barplot(data=dc2, x=\"region\", y = 'sales', estimator= sum).set(title = 'Facturación por región')"
      ],
      "metadata": {
        "colab": {
          "base_uri": "https://localhost:8080/",
          "height": 489
        },
        "id": "jMFLqLasU0Ig",
        "outputId": "42449a14-794e-4800-d560-7bbebef5a4fc"
      },
      "id": "jMFLqLasU0Ig",
      "execution_count": null,
      "outputs": [
        {
          "output_type": "execute_result",
          "data": {
            "text/plain": [
              "[Text(0.5, 1.0, 'Facturación por región')]"
            ]
          },
          "metadata": {},
          "execution_count": 75
        },
        {
          "output_type": "display_data",
          "data": {
            "text/plain": [
              "<Figure size 640x480 with 1 Axes>"
            ],
            "image/png": "[encoded data removed]"
          },
          "metadata": {}
        }
      ]
    },
    {
      "cell_type": "markdown",
      "source": [
        "En el suma total de ventas por región podemos ver que la zona oeste es la que tiene un mayor capital vendido."
      ],
      "metadata": {
        "id": "vr-ZvqtHcta0"
      },
      "id": "vr-ZvqtHcta0"
    },
    {
      "cell_type": "code",
      "source": [
        "plt.figure(figsize = (10,5))\n",
        "\n",
        "sns.barplot(data=dc2, x=\"year_order\", y=\"sales\" , hue =\"region\", estimator= sum).set(title = 'Ventas por región segmentadas por año')"
      ],
      "metadata": {
        "colab": {
          "base_uri": "https://localhost:8080/",
          "height": 505
        },
        "id": "WSGRqIt2WHok",
        "outputId": "a1de5ce4-8477-4e98-8200-f40df6073b80"
      },
      "id": "WSGRqIt2WHok",
      "execution_count": null,
      "outputs": [
        {
          "output_type": "execute_result",
          "data": {
            "text/plain": [
              "[Text(0.5, 1.0, 'Ventas por región segmentadas por año')]"
            ]
          },
          "metadata": {},
          "execution_count": 52
        },
        {
          "output_type": "display_data",
          "data": {
            "text/plain": [
              "<Figure size 1000x500 with 1 Axes>"
            ],
            "image/png": "[encoded data removed]"
          },
          "metadata": {}
        }
      ]
    },
    {
      "cell_type": "markdown",
      "source": [
        "Al realizar una segmentación por año, vemos que la misma región oeste se destacá en importes vendidos todos los años."
      ],
      "metadata": {
        "id": "pH8L1KGxdKVk"
      },
      "id": "pH8L1KGxdKVk"
    },
    {
      "cell_type": "markdown",
      "source": [
        "**¿Cuál es la categoria mas comprada?**"
      ],
      "metadata": {
        "id": "J8bvgkx7G2xT"
      },
      "id": "J8bvgkx7G2xT"
    },
    {
      "cell_type": "code",
      "source": [
        "catsal = dc2['sales'].groupby(dc2['category']).sum()\n",
        "catsal"
      ],
      "metadata": {
        "colab": {
          "base_uri": "https://localhost:8080/"
        },
        "id": "5676oIwfHBn1",
        "outputId": "9877c6e7-2833-49ab-aa0e-396d4caa3c8b"
      },
      "id": "5676oIwfHBn1",
      "execution_count": null,
      "outputs": [
        {
          "output_type": "execute_result",
          "data": {
            "text/plain": [
              "category\n",
              "Furniture         470680.154\n",
              "Office Supplies   514378.909\n",
              "Technology        531274.262\n",
              "Name: sales, dtype: float64"
            ]
          },
          "metadata": {},
          "execution_count": 41
        }
      ]
    },
    {
      "cell_type": "code",
      "source": [
        "ax = sns.barplot(data=dc2, x=\"category\", y = 'sales', estimator = sum).set(title = 'Facturación de ventas por categoria')\n",
        "plt.xlabel ('Tipo de cliente')\n",
        "plt.ylabel ('Facturación')"
      ],
      "metadata": {
        "colab": {
          "base_uri": "https://localhost:8080/",
          "height": 489
        },
        "id": "oSIi5m_YQGXk",
        "outputId": "ed99404b-7cba-433c-fb03-9a504e1709e4"
      },
      "id": "oSIi5m_YQGXk",
      "execution_count": null,
      "outputs": [
        {
          "output_type": "execute_result",
          "data": {
            "text/plain": [
              "Text(0, 0.5, 'Facturación')"
            ]
          },
          "metadata": {},
          "execution_count": 89
        },
        {
          "output_type": "display_data",
          "data": {
            "text/plain": [
              "<Figure size 640x480 with 1 Axes>"
            ],
            "image/png": "[encoded data removed]"
          },
          "metadata": {}
        }
      ]
    },
    {
      "cell_type": "code",
      "source": [
        "sns.barplot(data=dc2, x=\"category\", y = 'sales').set(title = 'Cantidad de ventas por categoria')"
      ],
      "metadata": {
        "colab": {
          "base_uri": "https://localhost:8080/",
          "height": 489
        },
        "id": "5eixQUDATXnS",
        "outputId": "8b035009-2587-4f23-beee-a8f515844c87"
      },
      "id": "5eixQUDATXnS",
      "execution_count": null,
      "outputs": [
        {
          "output_type": "execute_result",
          "data": {
            "text/plain": [
              "[Text(0.5, 1.0, 'Cantidad de ventas por categoria')]"
            ]
          },
          "metadata": {},
          "execution_count": 77
        },
        {
          "output_type": "display_data",
          "data": {
            "text/plain": [
              "<Figure size 640x480 with 1 Axes>"
            ],
            "image/png": "[encoded data removed]"
          },
          "metadata": {}
        }
      ]
    },
    {
      "cell_type": "markdown",
      "source": [
        "El gráfico bivariado entre categorias y ventas indica que los artículos tecnológicos son los mas vendidos, tanto en cantidad como en suma total por categoria. \n",
        "\n",
        "Dato extra: si analizamos los suplementos de oficina, vemos que son segundos en cuanto a suma total vendida y últimos (por mucha diferencia) si tenemos en cuenta la cantidad vendida. Lo que indicaría que vendendiendo menos productos se generan mayores valores de venta."
      ],
      "metadata": {
        "id": "jappUNHEdmx8"
      },
      "id": "jappUNHEdmx8"
    },
    {
      "cell_type": "markdown",
      "source": [
        "**¿Cuáles son las 5 sub_categorias que mas facturaron?**"
      ],
      "metadata": {
        "id": "-l86T3wjJknQ"
      },
      "id": "-l86T3wjJknQ"
    },
    {
      "cell_type": "code",
      "source": [
        "subcatsal = dc2['sales'].groupby(dc2['sub_category']).sum()\n",
        "subcatsal.sort_values(ascending=False).head(5)"
      ],
      "metadata": {
        "colab": {
          "base_uri": "https://localhost:8080/"
        },
        "id": "z6rBOvzjezdV",
        "outputId": "4db10d37-1cfb-47f1-8df3-302f113dd1de"
      },
      "id": "z6rBOvzjezdV",
      "execution_count": null,
      "outputs": [
        {
          "output_type": "execute_result",
          "data": {
            "text/plain": [
              "sub_category\n",
              "Chairs        246722.926\n",
              "Phones        212125.650\n",
              "Storage       170435.566\n",
              "Binders       129706.924\n",
              "Accessories   118127.590\n",
              "Name: sales, dtype: float64"
            ]
          },
          "metadata": {},
          "execution_count": 43
        }
      ]
    },
    {
      "cell_type": "code",
      "source": [
        "plt.figure(figsize = (17,4))\n",
        "sns.barplot(data=dc2, x=\"sub_category\", y=\"sales\", estimator= sum).set(title = 'Facturación por sub categoria')"
      ],
      "metadata": {
        "colab": {
          "base_uri": "https://localhost:8080/",
          "height": 448
        },
        "id": "cXwMiHTRZlJn",
        "outputId": "2a71ebd4-951f-4758-9775-01f4e98a64ae"
      },
      "id": "cXwMiHTRZlJn",
      "execution_count": null,
      "outputs": [
        {
          "output_type": "execute_result",
          "data": {
            "text/plain": [
              "[Text(0.5, 1.0, 'Facturación por sub categoria')]"
            ]
          },
          "metadata": {},
          "execution_count": 53
        },
        {
          "output_type": "display_data",
          "data": {
            "text/plain": [
              "<Figure size 1700x400 with 1 Axes>"
            ],
            "image/png": "[encoded data removed]"
          },
          "metadata": {}
        }
      ]
    },
    {
      "cell_type": "markdown",
      "source": [
        "Si analizamos el gráfico bivariado entre las ventas y las sub_categorias, podemos visualizar que el artículo sillas es el que más facturó, seguido por teléfonos, almacenamiento, carpetas y accesorios (respectivamente). "
      ],
      "metadata": {
        "id": "PpmcvYEugEtg"
      },
      "id": "PpmcvYEugEtg"
    },
    {
      "cell_type": "markdown",
      "source": [
        "**¿Que tipo de comprador es el mas habitual?**"
      ],
      "metadata": {
        "id": "OG2zdKriH9WD"
      },
      "id": "OG2zdKriH9WD"
    },
    {
      "cell_type": "code",
      "source": [
        "client = dc2['sales'].groupby(dc2['segment']).sum()\n",
        "client"
      ],
      "metadata": {
        "colab": {
          "base_uri": "https://localhost:8080/"
        },
        "id": "wVBBc7vq8ghY",
        "outputId": "79299034-1bc8-4966-d2a6-629c2486babb"
      },
      "id": "wVBBc7vq8ghY",
      "execution_count": null,
      "outputs": [
        {
          "output_type": "execute_result",
          "data": {
            "text/plain": [
              "segment\n",
              "Consumer      780533.142\n",
              "Corporate     458170.398\n",
              "Home Office   277629.786\n",
              "Name: sales, dtype: float64"
            ]
          },
          "metadata": {},
          "execution_count": 45
        }
      ]
    },
    {
      "cell_type": "code",
      "source": [
        "sns.barplot(data=dc2, x=\"segment\", y = 'sales', estimator= sum).set(title = 'Facturación segmentado según comprador')"
      ],
      "metadata": {
        "colab": {
          "base_uri": "https://localhost:8080/",
          "height": 489
        },
        "id": "_D3UXY4KF3zd",
        "outputId": "0d15596c-3ccf-46b7-e3c4-2c1b605076b7"
      },
      "id": "_D3UXY4KF3zd",
      "execution_count": null,
      "outputs": [
        {
          "output_type": "execute_result",
          "data": {
            "text/plain": [
              "[Text(0.5, 1.0, 'Facturación segmentado según comprador')]"
            ]
          },
          "metadata": {},
          "execution_count": 57
        },
        {
          "output_type": "display_data",
          "data": {
            "text/plain": [
              "<Figure size 640x480 with 1 Axes>"
            ],
            "image/png": "[encoded data removed]"
          },
          "metadata": {}
        }
      ]
    },
    {
      "cell_type": "code",
      "source": [
        "totalclient = dc2.segment.value_counts()\n",
        "totalclient"
      ],
      "metadata": {
        "colab": {
          "base_uri": "https://localhost:8080/"
        },
        "id": "g0GMxNdvIyeA",
        "outputId": "0ff7e24c-7930-4147-864d-3552c5f33fac"
      },
      "id": "g0GMxNdvIyeA",
      "execution_count": null,
      "outputs": [
        {
          "output_type": "execute_result",
          "data": {
            "text/plain": [
              "Consumer       4023\n",
              "Corporate      2292\n",
              "Home Office    1387\n",
              "Name: segment, dtype: int64"
            ]
          },
          "metadata": {},
          "execution_count": 46
        }
      ]
    },
    {
      "cell_type": "code",
      "source": [
        "sns.countplot(x='segment',data=dc2).set(title = 'Cantidad adquirida por cliente cliente')"
      ],
      "metadata": {
        "colab": {
          "base_uri": "https://localhost:8080/",
          "height": 489
        },
        "id": "m6_p4Y1sGpT2",
        "outputId": "1e0729ea-3376-4ad1-80fa-55e3defa5662"
      },
      "id": "m6_p4Y1sGpT2",
      "execution_count": null,
      "outputs": [
        {
          "output_type": "execute_result",
          "data": {
            "text/plain": [
              "[Text(0.5, 1.0, 'Cantidad adquirida por cliente cliente')]"
            ]
          },
          "metadata": {},
          "execution_count": 65
        },
        {
          "output_type": "display_data",
          "data": {
            "text/plain": [
              "<Figure size 640x480 with 1 Axes>"
            ],
            "image/png": "[encoded data removed]"
          },
          "metadata": {}
        }
      ]
    },
    {
      "cell_type": "markdown",
      "source": [
        "El recuento que nos muestra este gráfico univariado indica que el consumidor final es el principal cliente de nuestra base de datos, luego el cliente corporativo y por último el home office. \n",
        "\n",
        "El mismo orden se respeta en suma facturada por tipo de cliente."
      ],
      "metadata": {
        "id": "atQahI3_hCSA"
      },
      "id": "atQahI3_hCSA"
    },
    {
      "cell_type": "markdown",
      "source": [
        "**¿Cualés son los mayores descuentos por categoria y sub-categoria?**"
      ],
      "metadata": {
        "id": "9DWYI2EoKUZv"
      },
      "id": "9DWYI2EoKUZv"
    },
    {
      "cell_type": "code",
      "source": [
        "dis1 = dc2['discount'].groupby(dc2['sub_category']).sum()\n",
        "dis1.sort_values(ascending=False)"
      ],
      "metadata": {
        "id": "cn1GRwsaKj4I",
        "colab": {
          "base_uri": "https://localhost:8080/"
        },
        "outputId": "0b6a4bf8-ada3-4961-a575-b709431c7969"
      },
      "id": "cn1GRwsaKj4I",
      "execution_count": null,
      "outputs": [
        {
          "output_type": "execute_result",
          "data": {
            "text/plain": [
              "sub_category\n",
              "Binders       100.600\n",
              "Chairs         93.200\n",
              "Paper          88.400\n",
              "Phones         81.600\n",
              "Storage        57.400\n",
              "Accessories    52.200\n",
              "Art            51.000\n",
              "Furnishings    44.000\n",
              "Tables         26.600\n",
              "Labels         22.600\n",
              "Appliances     21.600\n",
              "Envelopes      18.000\n",
              "Bookcases      17.850\n",
              "Fasteners      14.400\n",
              "Supplies       12.600\n",
              "Machines        7.300\n",
              "Copiers         7.200\n",
              "Name: discount, dtype: float64"
            ]
          },
          "metadata": {},
          "execution_count": 48
        }
      ]
    },
    {
      "cell_type": "code",
      "source": [
        "plt.figure(figsize = (17,4))\n",
        "sns.barplot(data=dc2, x=\"sub_category\", y=\"discount\", estimator= sum).set(title = 'Descuentos en cada sub categoria')"
      ],
      "metadata": {
        "colab": {
          "base_uri": "https://localhost:8080/",
          "height": 385
        },
        "id": "t25r7YmHZ-pu",
        "outputId": "ebfe942d-f655-4ca8-a7f2-74d5ad5051ea"
      },
      "id": "t25r7YmHZ-pu",
      "execution_count": null,
      "outputs": [
        {
          "output_type": "execute_result",
          "data": {
            "text/plain": [
              "[Text(0.5, 1.0, 'Descuentos en cada sub categoria')]"
            ]
          },
          "metadata": {},
          "execution_count": 73
        },
        {
          "output_type": "display_data",
          "data": {
            "text/plain": [
              "<Figure size 1700x400 with 1 Axes>"
            ],
            "image/png": "[encoded data removed]"
          },
          "metadata": {}
        }
      ]
    },
    {
      "cell_type": "markdown",
      "source": [
        "El gráfico bivariado anterior entre sub_categoria comprada y descuento ofrecido nos indica que: los artículos que reciben mayor descuento son carpetas, sillas, papel y teléfonos (en ese orden)."
      ],
      "metadata": {
        "id": "lYqzkmO1hsuO"
      },
      "id": "lYqzkmO1hsuO"
    },
    {
      "cell_type": "code",
      "source": [
        "dis2 = dc2['discount'].groupby(dc2['category']).sum()\n",
        "dis2.sort_values(ascending=False)"
      ],
      "metadata": {
        "colab": {
          "base_uri": "https://localhost:8080/"
        },
        "id": "bGfRpUsbMDzk",
        "outputId": "e1c33f50-2a84-4237-f5fa-eea269ecb21d"
      },
      "id": "bGfRpUsbMDzk",
      "execution_count": null,
      "outputs": [
        {
          "output_type": "execute_result",
          "data": {
            "text/plain": [
              "category\n",
              "Office Supplies   386.600\n",
              "Furniture         181.650\n",
              "Technology        148.300\n",
              "Name: discount, dtype: float64"
            ]
          },
          "metadata": {},
          "execution_count": 50
        }
      ]
    },
    {
      "cell_type": "code",
      "source": [
        "plt.figure(figsize = (7,4))\n",
        "sns.barplot(data=dc2, x=\"category\", y=\"discount\", estimator= sum).set(title = 'Descuentos en cada categoria')"
      ],
      "metadata": {
        "colab": {
          "base_uri": "https://localhost:8080/",
          "height": 427
        },
        "id": "BovexTkvaQEy",
        "outputId": "5a11b49c-78d5-41b0-db5f-3ec21ca142fd"
      },
      "id": "BovexTkvaQEy",
      "execution_count": null,
      "outputs": [
        {
          "output_type": "execute_result",
          "data": {
            "text/plain": [
              "[Text(0.5, 1.0, 'Descuentos en cada categoria')]"
            ]
          },
          "metadata": {},
          "execution_count": 74
        },
        {
          "output_type": "display_data",
          "data": {
            "text/plain": [
              "<Figure size 700x400 with 1 Axes>"
            ],
            "image/png": "[encoded data removed]"
          },
          "metadata": {}
        }
      ]
    },
    {
      "cell_type": "markdown",
      "source": [
        "En cuanto a la gráfico bivariado entre categorías y descuentos, los suplementos de oficina son los que reciben el mayor descuento."
      ],
      "metadata": {
        "id": "tumycRJtikeQ"
      },
      "id": "tumycRJtikeQ"
    },
    {
      "cell_type": "markdown",
      "source": [
        "##**Conclusión**"
      ],
      "metadata": {
        "id": "fNGTc748iuWJ"
      },
      "id": "fNGTc748iuWJ"
    },
    {
      "cell_type": "markdown",
      "source": [
        "En base al análisis de los diferentes gráficos, recomendamos la implementación de un plan de acción estratégico para alcanzar nuestro objetivo. Durante el análisis, hemos identificado que el producto más vendido en términos de facturación son las sillas.\n",
        "\n",
        "En vista de esta información, proponemos aprovechar el éxito de las sillas como un punto de partida para impulsar las ventas de otros productos. Recomendamos la creación de combos o promociones especiales, como la oferta de un descuento del 30% en el valor de una biblioteca al adquirir una silla. Esta estrategia busca incentivar a los clientes a realizar compras complementarias, aumentando así tanto la facturación como la satisfacción del cliente.\n",
        "\n",
        "Al implementar este enfoque, esperamos fomentar una mayor demanda y mejorar la rentabilidad general del negocio. Recomendamos seguir monitoreando de cerca el impacto de estas acciones y ajustarlas en función de los resultados obtenidos para lograr los objetivos planteados de manera efectiva.\n",
        "\n",
        "En resumen, a través del análisis de los gráficos, hemos identificado oportunidades claras para aumentar las ventas y fomentar compras adicionales. La propuesta de combinar el éxito de las sillas con descuentos en otros productos busca capitalizar estas oportunidades y lograr resultados positivos.\n"
      ],
      "metadata": {
        "id": "T1zal25Ji2z9"
      },
      "id": "T1zal25Ji2z9"
    }
  ],
  "metadata": {
    "colab": {
      "provenance": []
    },
    "kernelspec": {
      "display_name": "Python 3 (ipykernel)",
      "language": "python",
      "name": "python3"
    },
    "language_info": {
      "codemirror_mode": {
        "name": "ipython",
        "version": 3
      },
      "file_extension": ".py",
      "mimetype": "text/x-python",
      "name": "python",
      "nbconvert_exporter": "python",
      "pygments_lexer": "ipython3",
      "version": "3.9.7"
    }
  },
  "nbformat": 4,
  "nbformat_minor": 5
}